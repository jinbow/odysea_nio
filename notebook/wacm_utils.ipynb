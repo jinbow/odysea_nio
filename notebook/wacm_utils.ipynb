{
 "cells": [
  {
   "cell_type": "markdown",
   "metadata": {},
   "source": [
    "Preprocess modules\n",
    "=========\n",
    "\n",
    "Jinbo Wang\n",
    "\n",
    "Jinbo.Wang@jpl.nasa.gov\n",
    "\n",
    "Created on 9/5/2021\n",
    "\n",
    "updated on July 20, 2022\n",
    "Use the new sampling data. \n",
    "\n"
   ]
  },
  {
   "cell_type": "code",
   "execution_count": 29,
   "metadata": {},
   "outputs": [],
   "source": [
    "import numpy as np\n",
    "import pylab as plt\n",
    "import xarray as xr\n",
    "import sys\n",
    "sys.path.append('../src/')\n",
    "import odysea_class as ody"
   ]
  },
  {
   "cell_type": "code",
   "execution_count": 70,
   "metadata": {},
   "outputs": [],
   "source": [
    "orbit=ody.wacmLatLon()\n",
    "lats=np.arange(10,80,2)\n",
    "t0=np.datetime64('2019-04-02')\n",
    "t1=t0+np.timedelta64(200,'D')\n",
    "timing=orbit.getSamplingTimes(lats,np.ones_like(lats),t0,t1)"
   ]
  },
  {
   "cell_type": "code",
   "execution_count": 74,
   "metadata": {},
   "outputs": [
    {
     "data": {
      "text/plain": [
       "Text(0.5, 0, 'latitude')"
      ]
     },
     "execution_count": 74,
     "metadata": {},
     "output_type": "execute_result"
    },
    {
     "data": {
      "image/png": "[encoded data removed]",
      "text/plain": [
       "<Figure size 432x288 with 1 Axes>"
      ]
     },
     "metadata": {
      "needs_background": "light"
     },
     "output_type": "display_data"
    }
   ],
   "source": [
    "for tt,lat in zip(timing,lats):\n",
    "    tt=np.diff(np.array(tt)-t0)/1e9/3600.0\n",
    "    plt.plot(lat,tt.mean(),'r*',)\n",
    "    plt.plot(lat,tt.min(),'d',color='gray',)\n",
    "    plt.plot(lat,tt.max(),'d',color='green',)\n",
    "plt.plot(lat,tt.mean(),'r*',label='mean')\n",
    "plt.plot(lat,tt.min(),'d',color='gray',label='min')\n",
    "plt.plot(lat,tt.max(),'d',color='green',label='max')\n",
    "    \n",
    "periods=np.abs(2*np.pi/(2*7.292e-5*np.sin(np.pi*lats/180)) / 3600)\n",
    "plt.plot(lats,periods,label='inertial period')\n",
    "plt.legend()\n",
    "plt.ylabel('hours')\n",
    "plt.xlabel('latitude')"
   ]
  },
  {
   "cell_type": "code",
   "execution_count": null,
   "metadata": {},
   "outputs": [],
   "source": [
    "lons=np.arange(0,360,20)\n",
    "timing=orbit.getSamplingTimes(lats,np.ones_like(lats),t0,t1)\n",
    "for tt,lon in zip(timing,lons):\n",
    "    tt=np.diff(np.array(tt)-t0)/1e9/3600.0\n",
    "    plt.plot(lon,tt.mean(),'r*',)\n",
    "    plt.plot(lon,tt.min(),'d',color='gray',)\n",
    "    plt.plot(lon,tt.max(),'d',color='green',)\n",
    "plt.plot(lon,tt.mean(),'r*',label='mean')\n",
    "plt.plot(lon,tt.min(),'d',color='gray',label='min')\n",
    "plt.plot(lon,tt.max(),'d',color='green',label='max')\n",
    "    \n",
    "periods=np.abs(2*np.pi/(2*7.292e-5*np.sin(np.pi*lats/180)) / 3600)\n",
    "plt.plot(lats,periods,label='inertial period')\n",
    "plt.legend()\n",
    "plt.ylabel('hours')\n",
    "plt.xlabel('latitude')"
   ]
  },
  {
   "cell_type": "code",
   "execution_count": null,
   "metadata": {},
   "outputs": [],
   "source": [
    "lat=np.load('../data/wacm.Alex/lat_centers.npy')\n",
    "period=np.load('../data/wacm.Alex/average_sampling_by_lat.npy')\n",
    "plt.plot(lat,period,label='700_1800',lw=2)\n",
    "dout=np.c_[lat.reshape(-1,1),period.reshape(-1,1)]\n",
    "np.savetxt('wacm_sampling_period_orbit_700_1800.txt',dout,fmt='%6.3f')\n",
    "\n",
    "\n",
    "lat=np.load('../data/wacm.Alex/lat_centers_1000km_swath.npy')\n",
    "period=np.load('../data/wacm.Alex/average_sampling_by_lat_1000km_swath.npy')\n",
    "plt.plot(lat,period,label='500_1000',lw=2)\n",
    "dout=np.c_[lat.reshape(-1,1),period.reshape(-1,1)]\n",
    "np.savetxt('wacm_sampling_period_orbit_500_1000.txt',dout,fmt='%6.3f')\n",
    "\n",
    "periods=np.abs(2*np.pi/(2*7.292e-5*np.sin(np.pi*lat/180)) / 3600)\n",
    "\n",
    "periods[periods>45]=np.nan\n",
    "plt.plot(lat,periods, label='Inertial period',lw=2)\n",
    "\n",
    "plt.xlabel('Latitude')\n",
    "plt.ylabel('Hours')\n",
    "\n",
    "plt.yticks(np.arange(4)*12)\n",
    "plt.xlim(-77,77)\n",
    "plt.legend()\n",
    "\n",
    "plt.grid(True)\n",
    "plt.savefig('../figures/sampling_periods.pdf')"
   ]
  },
  {
   "cell_type": "code",
   "execution_count": null,
   "metadata": {},
   "outputs": [],
   "source": []
  }
 ],
 "metadata": {
  "kernelspec": {
   "display_name": "Python 3 (ipykernel)",
   "language": "python",
   "name": "python3"
  },
  "language_info": {
   "codemirror_mode": {
    "name": "ipython",
    "version": 3
   },
   "file_extension": ".py",
   "mimetype": "text/x-python",
   "name": "python",
   "nbconvert_exporter": "python",
   "pygments_lexer": "ipython3",
   "version": "3.9.7"
  }
 },
 "nbformat": 4,
 "nbformat_minor": 4
}
