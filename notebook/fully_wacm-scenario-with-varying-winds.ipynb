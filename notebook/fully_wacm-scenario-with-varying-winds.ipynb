{
 "cells": [
  {
   "cell_type": "markdown",
   "metadata": {},
   "source": [
    "Use wind as a control parameter\n",
    "==================\n",
    "\n",
    "Jinbo Wang\n",
    "\n",
    "Jinbo.Wang@jpl.nasa.gov\n",
    "\n",
    "last update: 12/31/2021\n",
    "\n",
    "copied from full_wacm-scenario-full-year.ipynb"
   ]
  },
  {
   "cell_type": "code",
   "execution_count": null,
   "metadata": {},
   "outputs": [],
   "source": [
    "import slab_model_varying_winds as slab_model\n",
    "import pylab as plt\n",
    "import numpy as np\n",
    "import xarray as xr\n",
    "from popy import utils\n",
    "from scipy.io import loadmat\n",
    "import pandas as pd\n",
    "from scipy.interpolate import interp1d\n",
    "\n",
    "xrod=xr.open_dataset"
   ]
  },
  {
   "cell_type": "markdown",
   "metadata": {},
   "source": [
    "# WaCM was generated from the original\n",
    "\n",
    "Highpass filtering and detides will be performed on the simulated WaCM data."
   ]
  },
  {
   "cell_type": "code",
   "execution_count": null,
   "metadata": {
    "tags": []
   },
   "outputs": [],
   "source": [
    "import slab_model_varying_winds as slab_model\n",
    "import pylab as plt\n",
    "import numpy as np\n",
    "import xarray as xr\n",
    "from popy import utils\n",
    "from scipy.io import loadmat\n",
    "import pandas as pd\n",
    "\n",
    "\n",
    "xrod=xr.open_dataset\n",
    "t0,t1='2007-09-20','2007-09-29'\n",
    "\n",
    "#load data station papa\n",
    "fn='../data/from_Hong/PaPa2.mat'\n",
    "lat0=50.01\n",
    "tt=pd.date_range('2007-06-08 04:00:00',periods=8541,freq='1h')\n",
    "\n",
    "\n",
    "#fn='../data/from_Hong/KEO2.mat'\n",
    "#lat0=32.3\n",
    "#tt=pd.date_range('2007-09-26 11:00:00',periods=8255,freq='1h')\n",
    "#t0,t1='2007-11-20','2007-12-20'\n",
    "#t0,t1='2007-12-13','2008-01-30'\n",
    "\n",
    "d=loadmat(fn)\n",
    "\n",
    "#load velocity and create xarrays \n",
    "vobs=xr.DataArray(d['VV_obs'][:].flatten(),dims=('time'),coords={'time':tt} )\n",
    "uobs=xr.DataArray(d['UU_obs'][:].flatten(),dims=('time'),coords={'time':tt} )\n",
    "#load winds and create xarrays\n",
    "vwobs=xr.DataArray(d['Vwind_o'][:].flatten(),dims=('time'),coords={'time':tt} )#.sel(time=slice(t0,t1))\n",
    "uwobs=xr.DataArray(d['Uwind_o'][:].flatten(),dims=('time'),coords={'time':tt} )#.sel(time=slice(t0,t1))\n",
    "\n",
    "orbit='500_1000'\n",
    "orbit='700_1800'\n",
    "#orbit='hourly'\n",
    "#orbit='11h'\n",
    "\n",
    "d700=slab_model.synthetic_wacm(uobs,vobs,uwobs,vwobs,lat0,\n",
    "                               cutoff_truth=1/3,cutoff_wacm=1/20,\n",
    "                               orbit=orbit)\n"
   ]
  },
  {
   "cell_type": "markdown",
   "metadata": {},
   "source": [
    "## Focus on one day, use ensembles with different initial time"
   ]
  },
  {
   "cell_type": "code",
   "execution_count": null,
   "metadata": {},
   "outputs": [],
   "source": [
    "t_center='2007-09-15'\n",
    "fig,ax=plt.subplots(3,1,figsize=(20,10),sharex=True)\n",
    "time=d700.u_wacm_total.time.values[10:]\n",
    "\n",
    "for i in range(1):\n",
    "    for j in np.arange(0,time.size-1,4)[:1]:\n",
    "        t0=time[j];t1=time[j+20]\n",
    "        t0=np.datetime64('2007-09-22')\n",
    "        t1=np.datetime64('2007-09-29')\n",
    "        \n",
    "        ut=d700.u_wacm_total.sel(time=slice(t0,t1))\n",
    "        \n",
    "        t0=ut.time.data[0]\n",
    "        t1=ut.time.data[-1]\n",
    "        \n",
    "        ut.plot(ax=ax[2],color='purple',marker='o')\n",
    "        \n",
    "        up,vp,param=d700.get_wacm_nio(t0,t1,use_hourly_wind=True)\n",
    "        up.plot(ax=ax[0],label='%i'%i,marker='+')\n",
    "        ut0= (ut -d700.u_truth_high_tide.interp(time=ut.time.values) \n",
    "              - up.interp(time=ut.time.values)).interp(time=up.time.values)+up+d700.u_truth_high_tide.interp(time=up.time.values)\n",
    "        ut0.plot(ax=ax[2],color='r',)\n",
    "        \n",
    "        up,vp,param=d700.get_wacm_nio(t0,t1,use_hourly_wind=False)\n",
    "        up.plot(ax=ax[1],label='%i'%i,marker='+')\n",
    "        ut0= (ut -d700.u_truth_high_tide.interp(time=ut.time.values) \n",
    "              - up.interp(time=ut.time.values)).interp(time=up.time.values)+up+d700.u_truth_high_tide.interp(time=up.time.values)\n",
    "        ut0.plot(ax=ax[2],color='g',)\n",
    "        \n",
    "        d700.u_truth_high_notide_nio.sel(time=slice(t0,t1)).plot(ax=ax[0],color='k',lw=3)\n",
    "        d700.u_wacm_high.sel(time=slice(t0,t1)).plot(ax=ax[0],color='k',marker='o')\n",
    "        \n",
    "        d700.u_truth_high_notide_nio.sel(time=slice(t0,t1)).plot(ax=ax[1],color='k',lw=3)\n",
    "        d700.u_wacm_high.sel(time=slice(t0,t1)).plot(ax=ax[1],color='k',marker='o')\n",
    "        d700.u_truth_high_notide.sel(time=slice(t0,t1)).plot(ax=ax[1],color='k',marker='+')\n",
    "        \n",
    "        d700.u_truth_total.sel(time=slice(t0,t1)).plot(ax=ax[2],color='k')\n",
    "        \n",
    "ax[0].legend()"
   ]
  },
  {
   "cell_type": "code",
   "execution_count": null,
   "metadata": {},
   "outputs": [],
   "source": [
    "#loop through every ten days\n",
    "u,v,H,c=[],[],[],[]\n",
    "\n",
    "ttend=d700.u_wacm_total[-1].time.data\n",
    "\n",
    "total_days=uobs.size//24\n",
    "\n",
    "for t00 in d700.u_wacm_total[:4].time.values:\n",
    "    u_wacm_nio=uobs*0\n",
    "    v_wacm_nio=vobs*0\n",
    "    H_wacm=uobs*0\n",
    "    c_wacm=uobs*0\n",
    "    #print(i,np.datetime64('now'))\n",
    "    #for ii in range(i,8541-240,240)[:5]: \n",
    "    print(t00)\n",
    "    print(pd.date_range(t00,'2008-05-28T21:20:00.000000000',freq='6D'))\n",
    "    for it0 in np.range(0,total_days,6*24):\n",
    "        t0=t00+np.timedelta64(it0,'h')\n",
    "        t1=t0+np.timedelta64(it0+6*24,'h')\n",
    "        t_out=u_wacm_nio.sel(time=slice(t0,t1)).data[:]\n",
    "        up,vp,param=d700.get_wacm_nio(t0,t1,use_hourly_wind=True)\n",
    "        u_wacm_nio.sel(time=slice(t0,t1)).data[:]=up.interp(time=t_out).data[:]\n",
    "        v_wacm_nio.sel(time=slice(t0,t1)).data[:]=vp.interp(time=t_out).data[:]\n",
    "        #H_wacm[ii:ii+240].data[:]=param['H']\n",
    "        #c_wacm[ii:ii+240].data[:]=param['c']\n",
    "    u.append(u_wacm_nio)\n",
    "    v.append(v_wacm_nio)\n",
    "    #H.append(H_wacm)\n",
    "    #c.append(c_wacm)\n",
    "    "
   ]
  },
  {
   "cell_type": "code",
   "execution_count": null,
   "metadata": {},
   "outputs": [],
   "source": [
    "fig,ax=plt.subplots(3,1,figsize=(10,10))\n",
    "d700.u_truth_high_notide_nio.sel(time=slice('2007-09-20 00:00:00',t1)).plot(ax=ax[0],color='k',lw=3)\n",
    "\n",
    "for uu in u:\n",
    "    uu.plot(ax=ax[0])\n"
   ]
  },
  {
   "cell_type": "code",
   "execution_count": null,
   "metadata": {},
   "outputs": [],
   "source": [
    "uu=xr.DataArray(np.zeros((24,u[0].size)), dims=('case','time'),\n",
    "                coords={'case':range(24),'time':u[0].time.values})\n",
    "vv=xr.DataArray(np.zeros((24,u[0].size)), dims=('case','time'),\n",
    "                coords={'case':range(24),'time':u[0].time.values})\n",
    "\n",
    "for i in range(4):\n",
    "    uu[i,:]=u[i].interp(time=u[0].time.values)\n",
    "    vv[i,:]=v[i].interp(time=u[0].time.values)\n",
    "\n",
    "fig,ax=plt.subplots(3,1,figsize=(10,10))\n",
    "\n",
    "tt0,tt1='2007-06-20','2007-06-29'\n",
    "for i in range(4):\n",
    "    #uu[i,:].sel(time=slice(tt0,tt1)).plot(ax=ax[0],color='gray')\n",
    "    u[i].sel(time=slice(tt0,tt1)).plot(ax=ax[0])\n",
    "    d700.u_truth_high_notide_nio.sel(time=slice(tt0,tt1)).plot(ax=ax[0],color='gray',lw=3)\n",
    "    \n",
    "uu=d700.u_truth_high_notide_nio\n",
    "vv=d700.v_truth_high_notide_nio\n",
    "\n",
    "\n",
    "((uu**2+vv**2)**0.5).resample(time='1D').mean().plot(color='red',lw=1)"
   ]
  },
  {
   "cell_type": "code",
   "execution_count": null,
   "metadata": {},
   "outputs": [],
   "source": [
    "((u_wacm_nio**2+v_wacm_nio**2)**0.5).resample(time='1D').mean().plot(label='wacm')\n",
    "((d700.u_truth_high_notide_nio**2+d700.v_truth_high_notide_nio**2)**0.5).resample(time='1D').mean().plot(label='true')\n",
    "plt.legend()"
   ]
  },
  {
   "cell_type": "code",
   "execution_count": null,
   "metadata": {},
   "outputs": [],
   "source": []
  }
 ],
 "metadata": {
  "kernelspec": {
   "display_name": "Python 3",
   "language": "python",
   "name": "python3"
  },
  "language_info": {
   "codemirror_mode": {
    "name": "ipython",
    "version": 3
   },
   "file_extension": ".py",
   "mimetype": "text/x-python",
   "name": "python",
   "nbconvert_exporter": "python",
   "pygments_lexer": "ipython3",
   "version": "3.9.7"
  }
 },
 "nbformat": 4,
 "nbformat_minor": 4
}
