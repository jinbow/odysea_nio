{
 "cells": [
  {
   "cell_type": "markdown",
   "metadata": {},
   "source": [
    "Test slab_model.py\n",
    "==================\n",
    "\n",
    "Jinbo Wang\n",
    "\n",
    "Jinbo.Wang@jpl.nasa.gov\n",
    "\n",
    "last update: 12/31/2021\n",
    "\n",
    "copied from full_wacm-scenario.ipynb"
   ]
  },
  {
   "cell_type": "markdown",
   "metadata": {},
   "source": [
    "# WaCM was generated from the original\n",
    "\n",
    "Highpass filtering and detides will be performed on the simulated WaCM data."
   ]
  },
  {
   "cell_type": "code",
   "execution_count": null,
   "metadata": {
    "tags": []
   },
   "outputs": [],
   "source": [
    "import slab_model\n",
    "import pylab as plt\n",
    "import numpy as np\n",
    "import xarray as xr\n",
    "from popy import utils,mysignal\n",
    "from scipy.io import loadmat\n",
    "import pandas as pd\n",
    "import pickle\n",
    "\n",
    "xrod=xr.open_dataset\n",
    "\n",
    "#use preprocess_mat2h5.ipynb to convert .mat files from Hong to HDF5\n",
    "ss=['PaPa2','KEO2','NTAS2','Stratus2','WHOTS2']\n",
    "station=ss[1]\n"
   ]
  },
  {
   "cell_type": "markdown",
   "metadata": {},
   "source": [
    "### Plot the time series of the NIO energy of the five stations"
   ]
  },
  {
   "cell_type": "code",
   "execution_count": null,
   "metadata": {},
   "outputs": [],
   "source": [
    "fig,ax=plt.subplots(figsize=(10,4))\n",
    "\n",
    "nio_ke=[]\n",
    "low_ke=[]\n",
    "high_ke=[]\n",
    "\n",
    "for ss in ['PaPa2','KEO2','NTAS2','Stratus2','WHOTS2']:\n",
    "    dd=slab_model.create_wacm_from_mooring(ss,)\n",
    "    eke=(dd.u_truth_high_notide_nio**2+dd.u_truth_high_notide_nio**2)/2\n",
    "    nio_ke.append(eke.mean().values**0.5)\n",
    "    \n",
    "    cc=eke.resample(time='10D').mean()**0.5\n",
    "    cc.plot(ax=ax,lw=2,label=ss[:-1])\n",
    "    \n",
    "    eke=(dd.u_truth_low**2+dd.u_truth_low**2)/2\n",
    "    low_ke.append(eke.mean().values**0.5)\n",
    "\n",
    "    eke=(dd.u_truth_high**2+dd.u_truth_high**2)/2\n",
    "    high_ke.append(eke.mean().values**0.5)\n",
    "    \n",
    "    del dd,eke\n",
    "    \n",
    "plt.grid(True,linestyle='--')\n",
    "plt.legend()\n",
    "    \n",
    "plt.xlabel('Time')\n",
    "plt.ylabel('m/s')\n",
    "plt.tight_layout()\n",
    "plt.savefig('figures/NIO_timeseries_five_stations.pdf')\n",
    "plt.savefig('figures/NIO_timeseries_five_stations.png',dpi=300)"
   ]
  },
  {
   "cell_type": "markdown",
   "metadata": {},
   "source": [
    "## Plot the energey budget at the five stations. "
   ]
  },
  {
   "cell_type": "code",
   "execution_count": 3,
   "metadata": {},
   "outputs": [
    {
     "name": "stdout",
     "output_type": "stream",
     "text": [
      "[0.04994687747636646, 0.4755231600428138, 0.12128722373268458, 0.10402178704337955, 0.1298578187350453] [0.07644690532015395, 0.07426640006525251, 0.03153243843957349, 0.017401288944996905, 0.021492235028195753]\n"
     ]
    },
    {
     "data": {
      "image/png": "[encoded data removed]",
      "text/plain": [
       "<Figure size 288x288 with 1 Axes>"
      ]
     },
     "metadata": {
      "needs_background": "light"
     },
     "output_type": "display_data"
    }
   ],
   "source": [
    "\n",
    "fig,ax=plt.subplots(figsize=(4,4))\n",
    "\n",
    "print(low_ke,nio_ke)\n",
    "cb=ax.scatter(low_ke,nio_ke,s=50,color='r')\n",
    "for i,ss in enumerate(['PaPa2','KEO2','NTAS2','Stratus2','WHOTS2']):\n",
    "    ax.text(low_ke[i]+0.02,nio_ke[i]-0.001,ss[:-1]+' %3.1f'%(nio_ke[i]/high_ke[i]),fontsize=12)\n",
    "ax.set_xlim(0,0.6)\n",
    "ax.set_ylim(0,0.08)\n",
    "ax.set_xlabel('Low frequency (m/s)')\n",
    "ax.set_ylabel('NIO (m/s)')\n",
    "plt.grid(True,linestyle='--')\n",
    "plt.tight_layout()\n",
    "plt.savefig('figures/scatter_five_stations_ratios.pdf')\n",
    "plt.savefig('figures/scatter_five_stations_ratios.pdf')"
   ]
  },
  {
   "cell_type": "code",
   "execution_count": null,
   "metadata": {},
   "outputs": [],
   "source": []
  }
 ],
 "metadata": {
  "kernelspec": {
   "display_name": "Python 3",
   "language": "python",
   "name": "python3"
  },
  "language_info": {
   "codemirror_mode": {
    "name": "ipython",
    "version": 3
   },
   "file_extension": ".py",
   "mimetype": "text/x-python",
   "name": "python",
   "nbconvert_exporter": "python",
   "pygments_lexer": "ipython3",
   "version": "3.7.6"
  }
 },
 "nbformat": 4,
 "nbformat_minor": 4
}
