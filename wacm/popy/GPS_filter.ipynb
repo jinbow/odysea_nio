{
 "cells": [
  {
   "cell_type": "code",
   "execution_count": 1,
   "metadata": {},
   "outputs": [],
   "source": [
    "import numpy as np\n",
    "import pylab as plt\n",
    "from popy import gps as mgps\n",
    "import pandas as pd\n"
   ]
  },
  {
   "cell_type": "code",
   "execution_count": 2,
   "metadata": {},
   "outputs": [],
   "source": [
    "pth='/Users/wangjinb/projects/swot/prelaunch.data/po.daac/jpl_noaa/data/JPL_GPS/QuickLook/L2_solution/'\n",
    "pth='/u/jwang23/projects/swot/prelaunch.data/from.desktop/po.daac/jpl_noaa/data/JPL_GPS/QuickLook/L2_solution/'\n",
    "fn=pth+'JPL-GPS-L2-version2.0-000002142020'\n",
    "skip=18\n",
    "gps=pd.read_table(fn,skiprows=skip,delim_whitespace=True,names=('hour','lat','lon','ssh','time0','time1'))"
   ]
  },
  {
   "cell_type": "code",
   "execution_count": 3,
   "metadata": {},
   "outputs": [],
   "source": [
    "gssh=mgps.gps(np.round(gps.hour.values*3600),gps.ssh.values)"
   ]
  },
  {
   "cell_type": "code",
   "execution_count": null,
   "metadata": {},
   "outputs": [],
   "source": [
    "newssh=gssh.bin(1800)"
   ]
  },
  {
   "cell_type": "code",
   "execution_count": null,
   "metadata": {},
   "outputs": [],
   "source": []
  },
  {
   "cell_type": "code",
   "execution_count": null,
   "metadata": {},
   "outputs": [],
   "source": []
  }
 ],
 "metadata": {
  "kernelspec": {
   "display_name": "Python 3",
   "language": "python",
   "name": "python3"
  },
  "language_info": {
   "codemirror_mode": {
    "name": "ipython",
    "version": 3
   },
   "file_extension": ".py",
   "mimetype": "text/x-python",
   "name": "python",
   "nbconvert_exporter": "python",
   "pygments_lexer": "ipython3",
   "version": "3.6.7"
  }
 },
 "nbformat": 4,
 "nbformat_minor": 4
}
