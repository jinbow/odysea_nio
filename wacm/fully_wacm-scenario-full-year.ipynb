{
 "cells": [
  {
   "cell_type": "markdown",
   "metadata": {},
   "source": [
    "Test slab_model.py\n",
    "==================\n",
    "\n",
    "Jinbo Wang\n",
    "\n",
    "Jinbo.Wang@jpl.nasa.gov\n",
    "\n",
    "last update: 12/31/2021\n",
    "\n",
    "copied from full_wacm-scenario.ipynb"
   ]
  },
  {
   "cell_type": "markdown",
   "metadata": {},
   "source": [
    "# WaCM was generated from the original\n",
    "\n",
    "Highpass filtering and detides will be performed on the simulated WaCM data."
   ]
  },
  {
   "cell_type": "code",
   "execution_count": 1,
   "metadata": {
    "tags": []
   },
   "outputs": [
    {
     "name": "stdout",
     "output_type": "stream",
     "text": [
      "seperate hourly truth into low and high frequencies\n",
      "Remove tides from high-frequency truth\n"
     ]
    },
    {
     "name": "stderr",
     "output_type": "stream",
     "text": [
      "/Users/wangjinb/anaconda3/lib/python3.7/site-packages/utide/harmonics.py:184: RuntimeWarning: invalid value encountered in fmod\n",
      "  np.fmod(V, 1, out=V)\n"
     ]
    },
    {
     "name": "stdout",
     "output_type": "stream",
     "text": [
      "bandpass to get true NIO\n",
      "generate synthetic wacm\n"
     ]
    }
   ],
   "source": [
    "import slab_model\n",
    "import pylab as plt\n",
    "import numpy as np\n",
    "import xarray as xr\n",
    "from popy import utils,mysignal\n",
    "from scipy.io import loadmat\n",
    "import pandas as pd\n",
    "import pickle\n",
    "\n",
    "xrod=xr.open_dataset\n",
    "\n",
    "#use preprocess_mat2h5.ipynb to convert .mat files from Hong to HDF5\n",
    "ss=['PaPa2','KEO2','NTAS2','WHOTS2','Stratus2']\n",
    "d700=slab_model.create_wacm_from_mooring(ss[3],1/4,1/4,'700_1800')"
   ]
  },
  {
   "cell_type": "code",
   "execution_count": 2,
   "metadata": {},
   "outputs": [
    {
     "name": "stdout",
     "output_type": "stream",
     "text": [
      "<xarray.DataArray 'VV_obs' ()>\n",
      "array(38444) 38444\n"
     ]
    }
   ],
   "source": [
    "print(np.isfinite(d700.v_truth_total).sum(),d700.u_truth_total.size)"
   ]
  },
  {
   "cell_type": "markdown",
   "metadata": {},
   "source": [
    "### Loop through the full year"
   ]
  },
  {
   "cell_type": "code",
   "execution_count": 5,
   "metadata": {},
   "outputs": [
    {
     "name": "stdout",
     "output_type": "stream",
     "text": [
      "seperate hourly truth into low and high frequencies\n",
      "Remove tides from high-frequency truth\n"
     ]
    },
    {
     "name": "stderr",
     "output_type": "stream",
     "text": [
      "/Users/wangjinb/anaconda3/lib/python3.7/site-packages/utide/harmonics.py:184: RuntimeWarning: invalid value encountered in fmod\n",
      "  np.fmod(V, 1, out=V)\n"
     ]
    },
    {
     "name": "stdout",
     "output_type": "stream",
     "text": [
      "bandpass to get true NIO\n",
      "generate synthetic wacm\n",
      "PaPa2 wacm data start and end dates are 2007-06-08 2008-05-28\n",
      "seperate hourly truth into low and high frequencies\n",
      "Remove tides from high-frequency truth\n"
     ]
    },
    {
     "name": "stderr",
     "output_type": "stream",
     "text": [
      "/Users/wangjinb/anaconda3/lib/python3.7/site-packages/utide/harmonics.py:184: RuntimeWarning: invalid value encountered in fmod\n",
      "  np.fmod(V, 1, out=V)\n"
     ]
    },
    {
     "name": "stdout",
     "output_type": "stream",
     "text": [
      "bandpass to get true NIO\n",
      "generate synthetic wacm\n",
      "KEO2 wacm data start and end dates are 2007-09-26 2008-09-03\n",
      "seperate hourly truth into low and high frequencies\n",
      "Remove tides from high-frequency truth\n"
     ]
    },
    {
     "name": "stderr",
     "output_type": "stream",
     "text": [
      "/Users/wangjinb/anaconda3/lib/python3.7/site-packages/utide/harmonics.py:184: RuntimeWarning: invalid value encountered in fmod\n",
      "  np.fmod(V, 1, out=V)\n"
     ]
    },
    {
     "name": "stdout",
     "output_type": "stream",
     "text": [
      "bandpass to get true NIO\n",
      "generate synthetic wacm\n",
      "NTAS2 wacm data start and end dates are 2004-02-21 2008-12-31\n",
      "seperate hourly truth into low and high frequencies\n",
      "Remove tides from high-frequency truth\n"
     ]
    },
    {
     "name": "stderr",
     "output_type": "stream",
     "text": [
      "/Users/wangjinb/anaconda3/lib/python3.7/site-packages/utide/harmonics.py:184: RuntimeWarning: invalid value encountered in fmod\n",
      "  np.fmod(V, 1, out=V)\n"
     ]
    },
    {
     "name": "stdout",
     "output_type": "stream",
     "text": [
      "bandpass to get true NIO\n",
      "generate synthetic wacm\n",
      "WHOTS2 wacm data start and end dates are 2004-08-13 2008-12-31\n",
      "seperate hourly truth into low and high frequencies\n",
      "Remove tides from high-frequency truth\n"
     ]
    },
    {
     "name": "stderr",
     "output_type": "stream",
     "text": [
      "/Users/wangjinb/anaconda3/lib/python3.7/site-packages/utide/harmonics.py:184: RuntimeWarning: invalid value encountered in fmod\n",
      "  np.fmod(V, 1, out=V)\n"
     ]
    },
    {
     "name": "stdout",
     "output_type": "stream",
     "text": [
      "bandpass to get true NIO\n",
      "generate synthetic wacm\n",
      "Stratus2 wacm data start and end dates are 2004-01-01 2008-02-29\n"
     ]
    },
    {
     "name": "stderr",
     "output_type": "stream",
     "text": [
      "/Users/wangjinb/anaconda3/lib/python3.7/site-packages/scipy/optimize/_lsq/least_squares.py:220: RuntimeWarning: overflow encountered in square\n",
      "  z = (f / f_scale) ** 2\n"
     ]
    },
    {
     "name": "stdout",
     "output_type": "stream",
     "text": [
      "seperate hourly truth into low and high frequencies\n",
      "Remove tides from high-frequency truth\n"
     ]
    },
    {
     "name": "stderr",
     "output_type": "stream",
     "text": [
      "/Users/wangjinb/anaconda3/lib/python3.7/site-packages/utide/harmonics.py:184: RuntimeWarning: invalid value encountered in fmod\n",
      "  np.fmod(V, 1, out=V)\n"
     ]
    },
    {
     "name": "stdout",
     "output_type": "stream",
     "text": [
      "bandpass to get true NIO\n",
      "generate synthetic wacm\n",
      "PaPa2 wacm data start and end dates are 2007-06-08 2008-05-28\n",
      "seperate hourly truth into low and high frequencies\n",
      "Remove tides from high-frequency truth\n"
     ]
    },
    {
     "name": "stderr",
     "output_type": "stream",
     "text": [
      "/Users/wangjinb/anaconda3/lib/python3.7/site-packages/utide/harmonics.py:184: RuntimeWarning: invalid value encountered in fmod\n",
      "  np.fmod(V, 1, out=V)\n"
     ]
    },
    {
     "name": "stdout",
     "output_type": "stream",
     "text": [
      "bandpass to get true NIO\n",
      "generate synthetic wacm\n",
      "KEO2 wacm data start and end dates are 2007-09-26 2008-09-03\n",
      "seperate hourly truth into low and high frequencies\n",
      "Remove tides from high-frequency truth\n"
     ]
    },
    {
     "name": "stderr",
     "output_type": "stream",
     "text": [
      "/Users/wangjinb/anaconda3/lib/python3.7/site-packages/utide/harmonics.py:184: RuntimeWarning: invalid value encountered in fmod\n",
      "  np.fmod(V, 1, out=V)\n"
     ]
    },
    {
     "name": "stdout",
     "output_type": "stream",
     "text": [
      "bandpass to get true NIO\n",
      "generate synthetic wacm\n",
      "NTAS2 wacm data start and end dates are 2004-02-21 2008-12-31\n",
      "seperate hourly truth into low and high frequencies\n",
      "Remove tides from high-frequency truth\n"
     ]
    },
    {
     "name": "stderr",
     "output_type": "stream",
     "text": [
      "/Users/wangjinb/anaconda3/lib/python3.7/site-packages/utide/harmonics.py:184: RuntimeWarning: invalid value encountered in fmod\n",
      "  np.fmod(V, 1, out=V)\n"
     ]
    },
    {
     "name": "stdout",
     "output_type": "stream",
     "text": [
      "bandpass to get true NIO\n",
      "generate synthetic wacm\n",
      "WHOTS2 wacm data start and end dates are 2004-08-13 2008-12-31\n",
      "seperate hourly truth into low and high frequencies\n",
      "Remove tides from high-frequency truth\n"
     ]
    },
    {
     "name": "stderr",
     "output_type": "stream",
     "text": [
      "/Users/wangjinb/anaconda3/lib/python3.7/site-packages/utide/harmonics.py:184: RuntimeWarning: invalid value encountered in fmod\n",
      "  np.fmod(V, 1, out=V)\n"
     ]
    },
    {
     "name": "stdout",
     "output_type": "stream",
     "text": [
      "bandpass to get true NIO\n",
      "generate synthetic wacm\n",
      "Stratus2 wacm data start and end dates are 2004-01-01 2008-02-29\n"
     ]
    },
    {
     "name": "stderr",
     "output_type": "stream",
     "text": [
      "/Users/wangjinb/anaconda3/lib/python3.7/site-packages/scipy/optimize/_lsq/least_squares.py:220: RuntimeWarning: overflow encountered in square\n",
      "  z = (f / f_scale) ** 2\n"
     ]
    },
    {
     "name": "stdout",
     "output_type": "stream",
     "text": [
      "seperate hourly truth into low and high frequencies\n",
      "Remove tides from high-frequency truth\n"
     ]
    },
    {
     "name": "stderr",
     "output_type": "stream",
     "text": [
      "/Users/wangjinb/anaconda3/lib/python3.7/site-packages/utide/harmonics.py:184: RuntimeWarning: invalid value encountered in fmod\n",
      "  np.fmod(V, 1, out=V)\n"
     ]
    },
    {
     "name": "stdout",
     "output_type": "stream",
     "text": [
      "bandpass to get true NIO\n",
      "generate synthetic wacm\n",
      "PaPa2 wacm data start and end dates are 2007-06-08 2008-05-28\n",
      "seperate hourly truth into low and high frequencies\n",
      "Remove tides from high-frequency truth\n"
     ]
    },
    {
     "name": "stderr",
     "output_type": "stream",
     "text": [
      "/Users/wangjinb/anaconda3/lib/python3.7/site-packages/utide/harmonics.py:184: RuntimeWarning: invalid value encountered in fmod\n",
      "  np.fmod(V, 1, out=V)\n"
     ]
    },
    {
     "name": "stdout",
     "output_type": "stream",
     "text": [
      "bandpass to get true NIO\n",
      "generate synthetic wacm\n",
      "KEO2 wacm data start and end dates are 2007-09-26 2008-09-03\n",
      "seperate hourly truth into low and high frequencies\n",
      "Remove tides from high-frequency truth\n"
     ]
    },
    {
     "name": "stderr",
     "output_type": "stream",
     "text": [
      "/Users/wangjinb/anaconda3/lib/python3.7/site-packages/utide/harmonics.py:184: RuntimeWarning: invalid value encountered in fmod\n",
      "  np.fmod(V, 1, out=V)\n"
     ]
    },
    {
     "name": "stdout",
     "output_type": "stream",
     "text": [
      "bandpass to get true NIO\n",
      "generate synthetic wacm\n",
      "NTAS2 wacm data start and end dates are 2004-02-21 2008-12-31\n",
      "seperate hourly truth into low and high frequencies\n",
      "Remove tides from high-frequency truth\n"
     ]
    },
    {
     "name": "stderr",
     "output_type": "stream",
     "text": [
      "/Users/wangjinb/anaconda3/lib/python3.7/site-packages/utide/harmonics.py:184: RuntimeWarning: invalid value encountered in fmod\n",
      "  np.fmod(V, 1, out=V)\n"
     ]
    },
    {
     "name": "stdout",
     "output_type": "stream",
     "text": [
      "bandpass to get true NIO\n",
      "generate synthetic wacm\n",
      "WHOTS2 wacm data start and end dates are 2004-08-13 2008-12-31\n",
      "seperate hourly truth into low and high frequencies\n",
      "Remove tides from high-frequency truth\n"
     ]
    },
    {
     "name": "stderr",
     "output_type": "stream",
     "text": [
      "/Users/wangjinb/anaconda3/lib/python3.7/site-packages/utide/harmonics.py:184: RuntimeWarning: invalid value encountered in fmod\n",
      "  np.fmod(V, 1, out=V)\n"
     ]
    },
    {
     "name": "stdout",
     "output_type": "stream",
     "text": [
      "bandpass to get true NIO\n",
      "generate synthetic wacm\n",
      "Stratus2 wacm data start and end dates are 2004-01-01 2008-02-29\n"
     ]
    },
    {
     "name": "stderr",
     "output_type": "stream",
     "text": [
      "/Users/wangjinb/anaconda3/lib/python3.7/site-packages/scipy/optimize/_lsq/least_squares.py:220: RuntimeWarning: overflow encountered in square\n",
      "  z = (f / f_scale) ** 2\n"
     ]
    },
    {
     "name": "stdout",
     "output_type": "stream",
     "text": [
      "seperate hourly truth into low and high frequencies\n",
      "Remove tides from high-frequency truth\n"
     ]
    },
    {
     "name": "stderr",
     "output_type": "stream",
     "text": [
      "/Users/wangjinb/anaconda3/lib/python3.7/site-packages/utide/harmonics.py:184: RuntimeWarning: invalid value encountered in fmod\n",
      "  np.fmod(V, 1, out=V)\n"
     ]
    },
    {
     "name": "stdout",
     "output_type": "stream",
     "text": [
      "bandpass to get true NIO\n",
      "generate synthetic wacm\n",
      "PaPa2 wacm data start and end dates are 2007-06-08 2008-05-28\n",
      "seperate hourly truth into low and high frequencies\n",
      "Remove tides from high-frequency truth\n"
     ]
    },
    {
     "name": "stderr",
     "output_type": "stream",
     "text": [
      "/Users/wangjinb/anaconda3/lib/python3.7/site-packages/utide/harmonics.py:184: RuntimeWarning: invalid value encountered in fmod\n",
      "  np.fmod(V, 1, out=V)\n"
     ]
    },
    {
     "name": "stdout",
     "output_type": "stream",
     "text": [
      "bandpass to get true NIO\n",
      "generate synthetic wacm\n",
      "KEO2 wacm data start and end dates are 2007-09-26 2008-09-03\n",
      "seperate hourly truth into low and high frequencies\n",
      "Remove tides from high-frequency truth\n"
     ]
    },
    {
     "name": "stderr",
     "output_type": "stream",
     "text": [
      "/Users/wangjinb/anaconda3/lib/python3.7/site-packages/utide/harmonics.py:184: RuntimeWarning: invalid value encountered in fmod\n",
      "  np.fmod(V, 1, out=V)\n"
     ]
    },
    {
     "name": "stdout",
     "output_type": "stream",
     "text": [
      "bandpass to get true NIO\n",
      "generate synthetic wacm\n",
      "NTAS2 wacm data start and end dates are 2004-02-21 2008-12-31\n",
      "seperate hourly truth into low and high frequencies\n",
      "Remove tides from high-frequency truth\n"
     ]
    },
    {
     "name": "stderr",
     "output_type": "stream",
     "text": [
      "/Users/wangjinb/anaconda3/lib/python3.7/site-packages/utide/harmonics.py:184: RuntimeWarning: invalid value encountered in fmod\n",
      "  np.fmod(V, 1, out=V)\n"
     ]
    },
    {
     "name": "stdout",
     "output_type": "stream",
     "text": [
      "bandpass to get true NIO\n",
      "generate synthetic wacm\n",
      "WHOTS2 wacm data start and end dates are 2004-08-13 2008-12-31\n",
      "seperate hourly truth into low and high frequencies\n",
      "Remove tides from high-frequency truth\n"
     ]
    },
    {
     "name": "stderr",
     "output_type": "stream",
     "text": [
      "/Users/wangjinb/anaconda3/lib/python3.7/site-packages/utide/harmonics.py:184: RuntimeWarning: invalid value encountered in fmod\n",
      "  np.fmod(V, 1, out=V)\n"
     ]
    },
    {
     "name": "stdout",
     "output_type": "stream",
     "text": [
      "bandpass to get true NIO\n",
      "generate synthetic wacm\n",
      "Stratus2 wacm data start and end dates are 2004-01-01 2008-02-29\n"
     ]
    },
    {
     "name": "stderr",
     "output_type": "stream",
     "text": [
      "/Users/wangjinb/anaconda3/lib/python3.7/site-packages/scipy/optimize/_lsq/least_squares.py:220: RuntimeWarning: overflow encountered in square\n",
      "  z = (f / f_scale) ** 2\n"
     ]
    },
    {
     "name": "stdout",
     "output_type": "stream",
     "text": [
      "seperate hourly truth into low and high frequencies\n",
      "Remove tides from high-frequency truth\n"
     ]
    },
    {
     "name": "stderr",
     "output_type": "stream",
     "text": [
      "/Users/wangjinb/anaconda3/lib/python3.7/site-packages/utide/harmonics.py:184: RuntimeWarning: invalid value encountered in fmod\n",
      "  np.fmod(V, 1, out=V)\n"
     ]
    },
    {
     "name": "stdout",
     "output_type": "stream",
     "text": [
      "bandpass to get true NIO\n",
      "generate synthetic wacm\n",
      "PaPa2 wacm data start and end dates are 2007-06-08 2008-05-28\n",
      "seperate hourly truth into low and high frequencies\n",
      "Remove tides from high-frequency truth\n"
     ]
    },
    {
     "name": "stderr",
     "output_type": "stream",
     "text": [
      "/Users/wangjinb/anaconda3/lib/python3.7/site-packages/utide/harmonics.py:184: RuntimeWarning: invalid value encountered in fmod\n",
      "  np.fmod(V, 1, out=V)\n"
     ]
    },
    {
     "name": "stdout",
     "output_type": "stream",
     "text": [
      "bandpass to get true NIO\n",
      "generate synthetic wacm\n",
      "KEO2 wacm data start and end dates are 2007-09-26 2008-09-03\n",
      "seperate hourly truth into low and high frequencies\n",
      "Remove tides from high-frequency truth\n"
     ]
    },
    {
     "name": "stderr",
     "output_type": "stream",
     "text": [
      "/Users/wangjinb/anaconda3/lib/python3.7/site-packages/utide/harmonics.py:184: RuntimeWarning: invalid value encountered in fmod\n",
      "  np.fmod(V, 1, out=V)\n"
     ]
    },
    {
     "name": "stdout",
     "output_type": "stream",
     "text": [
      "bandpass to get true NIO\n",
      "generate synthetic wacm\n",
      "NTAS2 wacm data start and end dates are 2004-02-21 2008-12-31\n",
      "seperate hourly truth into low and high frequencies\n",
      "Remove tides from high-frequency truth\n"
     ]
    },
    {
     "name": "stderr",
     "output_type": "stream",
     "text": [
      "/Users/wangjinb/anaconda3/lib/python3.7/site-packages/utide/harmonics.py:184: RuntimeWarning: invalid value encountered in fmod\n",
      "  np.fmod(V, 1, out=V)\n"
     ]
    },
    {
     "name": "stdout",
     "output_type": "stream",
     "text": [
      "bandpass to get true NIO\n",
      "generate synthetic wacm\n",
      "WHOTS2 wacm data start and end dates are 2004-08-13 2008-12-31\n",
      "seperate hourly truth into low and high frequencies\n",
      "Remove tides from high-frequency truth\n"
     ]
    },
    {
     "name": "stderr",
     "output_type": "stream",
     "text": [
      "/Users/wangjinb/anaconda3/lib/python3.7/site-packages/utide/harmonics.py:184: RuntimeWarning: invalid value encountered in fmod\n",
      "  np.fmod(V, 1, out=V)\n"
     ]
    },
    {
     "name": "stdout",
     "output_type": "stream",
     "text": [
      "bandpass to get true NIO\n",
      "generate synthetic wacm\n",
      "Stratus2 wacm data start and end dates are 2004-01-01 2008-02-29\n"
     ]
    },
    {
     "name": "stderr",
     "output_type": "stream",
     "text": [
      "/Users/wangjinb/anaconda3/lib/python3.7/site-packages/scipy/optimize/_lsq/least_squares.py:220: RuntimeWarning: overflow encountered in square\n",
      "  z = (f / f_scale) ** 2\n"
     ]
    },
    {
     "name": "stdout",
     "output_type": "stream",
     "text": [
      "seperate hourly truth into low and high frequencies\n",
      "Remove tides from high-frequency truth\n"
     ]
    },
    {
     "name": "stderr",
     "output_type": "stream",
     "text": [
      "/Users/wangjinb/anaconda3/lib/python3.7/site-packages/utide/harmonics.py:184: RuntimeWarning: invalid value encountered in fmod\n",
      "  np.fmod(V, 1, out=V)\n"
     ]
    },
    {
     "name": "stdout",
     "output_type": "stream",
     "text": [
      "bandpass to get true NIO\n",
      "generate synthetic wacm\n",
      "PaPa2 wacm data start and end dates are 2007-06-08 2008-05-28\n",
      "seperate hourly truth into low and high frequencies\n",
      "Remove tides from high-frequency truth\n"
     ]
    },
    {
     "name": "stderr",
     "output_type": "stream",
     "text": [
      "/Users/wangjinb/anaconda3/lib/python3.7/site-packages/utide/harmonics.py:184: RuntimeWarning: invalid value encountered in fmod\n",
      "  np.fmod(V, 1, out=V)\n"
     ]
    },
    {
     "name": "stdout",
     "output_type": "stream",
     "text": [
      "bandpass to get true NIO\n",
      "generate synthetic wacm\n",
      "KEO2 wacm data start and end dates are 2007-09-26 2008-09-03\n",
      "seperate hourly truth into low and high frequencies\n",
      "Remove tides from high-frequency truth\n"
     ]
    },
    {
     "name": "stderr",
     "output_type": "stream",
     "text": [
      "/Users/wangjinb/anaconda3/lib/python3.7/site-packages/utide/harmonics.py:184: RuntimeWarning: invalid value encountered in fmod\n",
      "  np.fmod(V, 1, out=V)\n"
     ]
    },
    {
     "name": "stdout",
     "output_type": "stream",
     "text": [
      "bandpass to get true NIO\n",
      "generate synthetic wacm\n",
      "NTAS2 wacm data start and end dates are 2004-02-21 2008-12-31\n",
      "seperate hourly truth into low and high frequencies\n",
      "Remove tides from high-frequency truth\n"
     ]
    },
    {
     "name": "stderr",
     "output_type": "stream",
     "text": [
      "/Users/wangjinb/anaconda3/lib/python3.7/site-packages/utide/harmonics.py:184: RuntimeWarning: invalid value encountered in fmod\n",
      "  np.fmod(V, 1, out=V)\n"
     ]
    },
    {
     "name": "stdout",
     "output_type": "stream",
     "text": [
      "bandpass to get true NIO\n",
      "generate synthetic wacm\n",
      "WHOTS2 wacm data start and end dates are 2004-08-13 2008-12-31\n",
      "seperate hourly truth into low and high frequencies\n",
      "Remove tides from high-frequency truth\n"
     ]
    },
    {
     "name": "stderr",
     "output_type": "stream",
     "text": [
      "/Users/wangjinb/anaconda3/lib/python3.7/site-packages/utide/harmonics.py:184: RuntimeWarning: invalid value encountered in fmod\n",
      "  np.fmod(V, 1, out=V)\n"
     ]
    },
    {
     "name": "stdout",
     "output_type": "stream",
     "text": [
      "bandpass to get true NIO\n",
      "generate synthetic wacm\n",
      "Stratus2 wacm data start and end dates are 2004-01-01 2008-02-29\n"
     ]
    },
    {
     "name": "stderr",
     "output_type": "stream",
     "text": [
      "/Users/wangjinb/anaconda3/lib/python3.7/site-packages/scipy/optimize/_lsq/least_squares.py:220: RuntimeWarning: overflow encountered in square\n",
      "  z = (f / f_scale) ** 2\n"
     ]
    },
    {
     "name": "stdout",
     "output_type": "stream",
     "text": [
      "seperate hourly truth into low and high frequencies\n",
      "Remove tides from high-frequency truth\n"
     ]
    },
    {
     "name": "stderr",
     "output_type": "stream",
     "text": [
      "/Users/wangjinb/anaconda3/lib/python3.7/site-packages/utide/harmonics.py:184: RuntimeWarning: invalid value encountered in fmod\n",
      "  np.fmod(V, 1, out=V)\n"
     ]
    },
    {
     "name": "stdout",
     "output_type": "stream",
     "text": [
      "bandpass to get true NIO\n",
      "generate synthetic wacm\n",
      "PaPa2 wacm data start and end dates are 2007-06-08 2008-05-28\n",
      "seperate hourly truth into low and high frequencies\n",
      "Remove tides from high-frequency truth\n"
     ]
    },
    {
     "name": "stderr",
     "output_type": "stream",
     "text": [
      "/Users/wangjinb/anaconda3/lib/python3.7/site-packages/utide/harmonics.py:184: RuntimeWarning: invalid value encountered in fmod\n",
      "  np.fmod(V, 1, out=V)\n"
     ]
    },
    {
     "name": "stdout",
     "output_type": "stream",
     "text": [
      "bandpass to get true NIO\n",
      "generate synthetic wacm\n",
      "KEO2 wacm data start and end dates are 2007-09-26 2008-09-03\n",
      "seperate hourly truth into low and high frequencies\n",
      "Remove tides from high-frequency truth\n"
     ]
    },
    {
     "name": "stderr",
     "output_type": "stream",
     "text": [
      "/Users/wangjinb/anaconda3/lib/python3.7/site-packages/utide/harmonics.py:184: RuntimeWarning: invalid value encountered in fmod\n",
      "  np.fmod(V, 1, out=V)\n"
     ]
    },
    {
     "name": "stdout",
     "output_type": "stream",
     "text": [
      "bandpass to get true NIO\n",
      "generate synthetic wacm\n",
      "NTAS2 wacm data start and end dates are 2004-02-21 2008-12-31\n",
      "seperate hourly truth into low and high frequencies\n",
      "Remove tides from high-frequency truth\n"
     ]
    },
    {
     "name": "stderr",
     "output_type": "stream",
     "text": [
      "/Users/wangjinb/anaconda3/lib/python3.7/site-packages/utide/harmonics.py:184: RuntimeWarning: invalid value encountered in fmod\n",
      "  np.fmod(V, 1, out=V)\n"
     ]
    },
    {
     "name": "stdout",
     "output_type": "stream",
     "text": [
      "bandpass to get true NIO\n",
      "generate synthetic wacm\n",
      "WHOTS2 wacm data start and end dates are 2004-08-13 2008-12-31\n",
      "seperate hourly truth into low and high frequencies\n",
      "Remove tides from high-frequency truth\n"
     ]
    },
    {
     "name": "stderr",
     "output_type": "stream",
     "text": [
      "/Users/wangjinb/anaconda3/lib/python3.7/site-packages/utide/harmonics.py:184: RuntimeWarning: invalid value encountered in fmod\n",
      "  np.fmod(V, 1, out=V)\n"
     ]
    },
    {
     "name": "stdout",
     "output_type": "stream",
     "text": [
      "bandpass to get true NIO\n",
      "generate synthetic wacm\n",
      "Stratus2 wacm data start and end dates are 2004-01-01 2008-02-29\n"
     ]
    },
    {
     "name": "stderr",
     "output_type": "stream",
     "text": [
      "/Users/wangjinb/anaconda3/lib/python3.7/site-packages/scipy/optimize/_lsq/least_squares.py:220: RuntimeWarning: overflow encountered in square\n",
      "  z = (f / f_scale) ** 2\n"
     ]
    },
    {
     "name": "stdout",
     "output_type": "stream",
     "text": [
      "seperate hourly truth into low and high frequencies\n",
      "Remove tides from high-frequency truth\n"
     ]
    },
    {
     "name": "stderr",
     "output_type": "stream",
     "text": [
      "/Users/wangjinb/anaconda3/lib/python3.7/site-packages/utide/harmonics.py:184: RuntimeWarning: invalid value encountered in fmod\n",
      "  np.fmod(V, 1, out=V)\n"
     ]
    },
    {
     "name": "stdout",
     "output_type": "stream",
     "text": [
      "bandpass to get true NIO\n",
      "generate synthetic wacm\n",
      "PaPa2 wacm data start and end dates are 2007-06-08 2008-05-28\n",
      "seperate hourly truth into low and high frequencies\n",
      "Remove tides from high-frequency truth\n"
     ]
    },
    {
     "name": "stderr",
     "output_type": "stream",
     "text": [
      "/Users/wangjinb/anaconda3/lib/python3.7/site-packages/utide/harmonics.py:184: RuntimeWarning: invalid value encountered in fmod\n",
      "  np.fmod(V, 1, out=V)\n"
     ]
    },
    {
     "name": "stdout",
     "output_type": "stream",
     "text": [
      "bandpass to get true NIO\n",
      "generate synthetic wacm\n",
      "KEO2 wacm data start and end dates are 2007-09-26 2008-09-03\n",
      "seperate hourly truth into low and high frequencies\n",
      "Remove tides from high-frequency truth\n"
     ]
    },
    {
     "name": "stderr",
     "output_type": "stream",
     "text": [
      "/Users/wangjinb/anaconda3/lib/python3.7/site-packages/utide/harmonics.py:184: RuntimeWarning: invalid value encountered in fmod\n",
      "  np.fmod(V, 1, out=V)\n"
     ]
    },
    {
     "name": "stdout",
     "output_type": "stream",
     "text": [
      "bandpass to get true NIO\n",
      "generate synthetic wacm\n",
      "NTAS2 wacm data start and end dates are 2004-02-21 2008-12-31\n",
      "seperate hourly truth into low and high frequencies\n",
      "Remove tides from high-frequency truth\n"
     ]
    },
    {
     "name": "stderr",
     "output_type": "stream",
     "text": [
      "/Users/wangjinb/anaconda3/lib/python3.7/site-packages/utide/harmonics.py:184: RuntimeWarning: invalid value encountered in fmod\n",
      "  np.fmod(V, 1, out=V)\n"
     ]
    },
    {
     "name": "stdout",
     "output_type": "stream",
     "text": [
      "bandpass to get true NIO\n",
      "generate synthetic wacm\n",
      "WHOTS2 wacm data start and end dates are 2004-08-13 2008-12-31\n",
      "seperate hourly truth into low and high frequencies\n",
      "Remove tides from high-frequency truth\n"
     ]
    },
    {
     "name": "stderr",
     "output_type": "stream",
     "text": [
      "/Users/wangjinb/anaconda3/lib/python3.7/site-packages/utide/harmonics.py:184: RuntimeWarning: invalid value encountered in fmod\n",
      "  np.fmod(V, 1, out=V)\n"
     ]
    },
    {
     "name": "stdout",
     "output_type": "stream",
     "text": [
      "bandpass to get true NIO\n",
      "generate synthetic wacm\n",
      "Stratus2 wacm data start and end dates are 2004-01-01 2008-02-29\n"
     ]
    },
    {
     "name": "stderr",
     "output_type": "stream",
     "text": [
      "/Users/wangjinb/anaconda3/lib/python3.7/site-packages/scipy/optimize/_lsq/least_squares.py:220: RuntimeWarning: overflow encountered in square\n",
      "  z = (f / f_scale) ** 2\n"
     ]
    },
    {
     "name": "stdout",
     "output_type": "stream",
     "text": [
      "seperate hourly truth into low and high frequencies\n",
      "Remove tides from high-frequency truth\n"
     ]
    },
    {
     "name": "stderr",
     "output_type": "stream",
     "text": [
      "/Users/wangjinb/anaconda3/lib/python3.7/site-packages/utide/harmonics.py:184: RuntimeWarning: invalid value encountered in fmod\n",
      "  np.fmod(V, 1, out=V)\n"
     ]
    },
    {
     "name": "stdout",
     "output_type": "stream",
     "text": [
      "bandpass to get true NIO\n",
      "generate synthetic wacm\n",
      "PaPa2 wacm data start and end dates are 2007-06-08 2008-05-28\n",
      "seperate hourly truth into low and high frequencies\n",
      "Remove tides from high-frequency truth\n"
     ]
    },
    {
     "name": "stderr",
     "output_type": "stream",
     "text": [
      "/Users/wangjinb/anaconda3/lib/python3.7/site-packages/utide/harmonics.py:184: RuntimeWarning: invalid value encountered in fmod\n",
      "  np.fmod(V, 1, out=V)\n"
     ]
    },
    {
     "name": "stdout",
     "output_type": "stream",
     "text": [
      "bandpass to get true NIO\n",
      "generate synthetic wacm\n",
      "KEO2 wacm data start and end dates are 2007-09-26 2008-09-03\n",
      "seperate hourly truth into low and high frequencies\n",
      "Remove tides from high-frequency truth\n"
     ]
    },
    {
     "name": "stderr",
     "output_type": "stream",
     "text": [
      "/Users/wangjinb/anaconda3/lib/python3.7/site-packages/utide/harmonics.py:184: RuntimeWarning: invalid value encountered in fmod\n",
      "  np.fmod(V, 1, out=V)\n"
     ]
    },
    {
     "name": "stdout",
     "output_type": "stream",
     "text": [
      "bandpass to get true NIO\n",
      "generate synthetic wacm\n",
      "NTAS2 wacm data start and end dates are 2004-02-21 2008-12-31\n",
      "seperate hourly truth into low and high frequencies\n",
      "Remove tides from high-frequency truth\n"
     ]
    },
    {
     "name": "stderr",
     "output_type": "stream",
     "text": [
      "/Users/wangjinb/anaconda3/lib/python3.7/site-packages/utide/harmonics.py:184: RuntimeWarning: invalid value encountered in fmod\n",
      "  np.fmod(V, 1, out=V)\n"
     ]
    },
    {
     "name": "stdout",
     "output_type": "stream",
     "text": [
      "bandpass to get true NIO\n",
      "generate synthetic wacm\n",
      "WHOTS2 wacm data start and end dates are 2004-08-13 2008-12-31\n",
      "seperate hourly truth into low and high frequencies\n",
      "Remove tides from high-frequency truth\n"
     ]
    },
    {
     "name": "stderr",
     "output_type": "stream",
     "text": [
      "/Users/wangjinb/anaconda3/lib/python3.7/site-packages/utide/harmonics.py:184: RuntimeWarning: invalid value encountered in fmod\n",
      "  np.fmod(V, 1, out=V)\n"
     ]
    },
    {
     "name": "stdout",
     "output_type": "stream",
     "text": [
      "bandpass to get true NIO\n",
      "generate synthetic wacm\n",
      "Stratus2 wacm data start and end dates are 2004-01-01 2008-02-29\n",
      "seperate hourly truth into low and high frequencies\n",
      "Remove tides from high-frequency truth\n"
     ]
    },
    {
     "name": "stderr",
     "output_type": "stream",
     "text": [
      "/Users/wangjinb/anaconda3/lib/python3.7/site-packages/utide/harmonics.py:184: RuntimeWarning: invalid value encountered in fmod\n",
      "  np.fmod(V, 1, out=V)\n"
     ]
    },
    {
     "name": "stdout",
     "output_type": "stream",
     "text": [
      "bandpass to get true NIO\n",
      "generate synthetic wacm\n",
      "PaPa2 wacm data start and end dates are 2007-06-08 2008-05-28\n",
      "seperate hourly truth into low and high frequencies\n",
      "Remove tides from high-frequency truth\n"
     ]
    },
    {
     "name": "stderr",
     "output_type": "stream",
     "text": [
      "/Users/wangjinb/anaconda3/lib/python3.7/site-packages/utide/harmonics.py:184: RuntimeWarning: invalid value encountered in fmod\n",
      "  np.fmod(V, 1, out=V)\n"
     ]
    },
    {
     "name": "stdout",
     "output_type": "stream",
     "text": [
      "bandpass to get true NIO\n",
      "generate synthetic wacm\n",
      "KEO2 wacm data start and end dates are 2007-09-26 2008-09-03\n",
      "seperate hourly truth into low and high frequencies\n",
      "Remove tides from high-frequency truth\n"
     ]
    },
    {
     "name": "stderr",
     "output_type": "stream",
     "text": [
      "/Users/wangjinb/anaconda3/lib/python3.7/site-packages/utide/harmonics.py:184: RuntimeWarning: invalid value encountered in fmod\n",
      "  np.fmod(V, 1, out=V)\n"
     ]
    },
    {
     "name": "stdout",
     "output_type": "stream",
     "text": [
      "bandpass to get true NIO\n",
      "generate synthetic wacm\n",
      "NTAS2 wacm data start and end dates are 2004-02-21 2008-12-31\n",
      "seperate hourly truth into low and high frequencies\n",
      "Remove tides from high-frequency truth\n"
     ]
    },
    {
     "name": "stderr",
     "output_type": "stream",
     "text": [
      "/Users/wangjinb/anaconda3/lib/python3.7/site-packages/utide/harmonics.py:184: RuntimeWarning: invalid value encountered in fmod\n",
      "  np.fmod(V, 1, out=V)\n"
     ]
    },
    {
     "name": "stdout",
     "output_type": "stream",
     "text": [
      "bandpass to get true NIO\n",
      "generate synthetic wacm\n",
      "WHOTS2 wacm data start and end dates are 2004-08-13 2008-12-31\n",
      "seperate hourly truth into low and high frequencies\n",
      "Remove tides from high-frequency truth\n"
     ]
    },
    {
     "name": "stderr",
     "output_type": "stream",
     "text": [
      "/Users/wangjinb/anaconda3/lib/python3.7/site-packages/utide/harmonics.py:184: RuntimeWarning: invalid value encountered in fmod\n",
      "  np.fmod(V, 1, out=V)\n"
     ]
    },
    {
     "name": "stdout",
     "output_type": "stream",
     "text": [
      "bandpass to get true NIO\n",
      "generate synthetic wacm\n",
      "Stratus2 wacm data start and end dates are 2004-01-01 2008-02-29\n",
      "seperate hourly truth into low and high frequencies\n",
      "Remove tides from high-frequency truth\n"
     ]
    },
    {
     "name": "stderr",
     "output_type": "stream",
     "text": [
      "/Users/wangjinb/anaconda3/lib/python3.7/site-packages/utide/harmonics.py:184: RuntimeWarning: invalid value encountered in fmod\n",
      "  np.fmod(V, 1, out=V)\n"
     ]
    },
    {
     "name": "stdout",
     "output_type": "stream",
     "text": [
      "bandpass to get true NIO\n",
      "generate synthetic wacm\n",
      "PaPa2 wacm data start and end dates are 2007-06-08 2008-05-28\n",
      "seperate hourly truth into low and high frequencies\n",
      "Remove tides from high-frequency truth\n"
     ]
    },
    {
     "name": "stderr",
     "output_type": "stream",
     "text": [
      "/Users/wangjinb/anaconda3/lib/python3.7/site-packages/utide/harmonics.py:184: RuntimeWarning: invalid value encountered in fmod\n",
      "  np.fmod(V, 1, out=V)\n"
     ]
    },
    {
     "name": "stdout",
     "output_type": "stream",
     "text": [
      "bandpass to get true NIO\n",
      "generate synthetic wacm\n",
      "KEO2 wacm data start and end dates are 2007-09-26 2008-09-03\n",
      "seperate hourly truth into low and high frequencies\n",
      "Remove tides from high-frequency truth\n"
     ]
    },
    {
     "name": "stderr",
     "output_type": "stream",
     "text": [
      "/Users/wangjinb/anaconda3/lib/python3.7/site-packages/utide/harmonics.py:184: RuntimeWarning: invalid value encountered in fmod\n",
      "  np.fmod(V, 1, out=V)\n"
     ]
    },
    {
     "name": "stdout",
     "output_type": "stream",
     "text": [
      "bandpass to get true NIO\n",
      "generate synthetic wacm\n",
      "NTAS2 wacm data start and end dates are 2004-02-21 2008-12-31\n",
      "seperate hourly truth into low and high frequencies\n",
      "Remove tides from high-frequency truth\n"
     ]
    },
    {
     "name": "stderr",
     "output_type": "stream",
     "text": [
      "/Users/wangjinb/anaconda3/lib/python3.7/site-packages/utide/harmonics.py:184: RuntimeWarning: invalid value encountered in fmod\n",
      "  np.fmod(V, 1, out=V)\n"
     ]
    },
    {
     "name": "stdout",
     "output_type": "stream",
     "text": [
      "bandpass to get true NIO\n",
      "generate synthetic wacm\n",
      "WHOTS2 wacm data start and end dates are 2004-08-13 2008-12-31\n",
      "seperate hourly truth into low and high frequencies\n",
      "Remove tides from high-frequency truth\n"
     ]
    },
    {
     "name": "stderr",
     "output_type": "stream",
     "text": [
      "/Users/wangjinb/anaconda3/lib/python3.7/site-packages/utide/harmonics.py:184: RuntimeWarning: invalid value encountered in fmod\n",
      "  np.fmod(V, 1, out=V)\n"
     ]
    },
    {
     "name": "stdout",
     "output_type": "stream",
     "text": [
      "bandpass to get true NIO\n",
      "generate synthetic wacm\n",
      "Stratus2 wacm data start and end dates are 2004-01-01 2008-02-29\n",
      "seperate hourly truth into low and high frequencies\n",
      "Remove tides from high-frequency truth\n"
     ]
    },
    {
     "name": "stderr",
     "output_type": "stream",
     "text": [
      "/Users/wangjinb/anaconda3/lib/python3.7/site-packages/utide/harmonics.py:184: RuntimeWarning: invalid value encountered in fmod\n",
      "  np.fmod(V, 1, out=V)\n"
     ]
    },
    {
     "name": "stdout",
     "output_type": "stream",
     "text": [
      "bandpass to get true NIO\n",
      "generate synthetic wacm\n",
      "PaPa2 wacm data start and end dates are 2007-06-08 2008-05-28\n",
      "seperate hourly truth into low and high frequencies\n",
      "Remove tides from high-frequency truth\n"
     ]
    },
    {
     "name": "stderr",
     "output_type": "stream",
     "text": [
      "/Users/wangjinb/anaconda3/lib/python3.7/site-packages/utide/harmonics.py:184: RuntimeWarning: invalid value encountered in fmod\n",
      "  np.fmod(V, 1, out=V)\n"
     ]
    },
    {
     "name": "stdout",
     "output_type": "stream",
     "text": [
      "bandpass to get true NIO\n",
      "generate synthetic wacm\n",
      "KEO2 wacm data start and end dates are 2007-09-26 2008-09-03\n",
      "seperate hourly truth into low and high frequencies\n",
      "Remove tides from high-frequency truth\n"
     ]
    },
    {
     "name": "stderr",
     "output_type": "stream",
     "text": [
      "/Users/wangjinb/anaconda3/lib/python3.7/site-packages/utide/harmonics.py:184: RuntimeWarning: invalid value encountered in fmod\n",
      "  np.fmod(V, 1, out=V)\n"
     ]
    },
    {
     "name": "stdout",
     "output_type": "stream",
     "text": [
      "bandpass to get true NIO\n",
      "generate synthetic wacm\n",
      "NTAS2 wacm data start and end dates are 2004-02-21 2008-12-31\n",
      "seperate hourly truth into low and high frequencies\n",
      "Remove tides from high-frequency truth\n"
     ]
    },
    {
     "name": "stderr",
     "output_type": "stream",
     "text": [
      "/Users/wangjinb/anaconda3/lib/python3.7/site-packages/utide/harmonics.py:184: RuntimeWarning: invalid value encountered in fmod\n",
      "  np.fmod(V, 1, out=V)\n"
     ]
    },
    {
     "name": "stdout",
     "output_type": "stream",
     "text": [
      "bandpass to get true NIO\n",
      "generate synthetic wacm\n",
      "WHOTS2 wacm data start and end dates are 2004-08-13 2008-12-31\n",
      "seperate hourly truth into low and high frequencies\n",
      "Remove tides from high-frequency truth\n"
     ]
    },
    {
     "name": "stderr",
     "output_type": "stream",
     "text": [
      "/Users/wangjinb/anaconda3/lib/python3.7/site-packages/utide/harmonics.py:184: RuntimeWarning: invalid value encountered in fmod\n",
      "  np.fmod(V, 1, out=V)\n"
     ]
    },
    {
     "name": "stdout",
     "output_type": "stream",
     "text": [
      "bandpass to get true NIO\n",
      "generate synthetic wacm\n",
      "Stratus2 wacm data start and end dates are 2004-01-01 2008-02-29\n",
      "seperate hourly truth into low and high frequencies\n",
      "Remove tides from high-frequency truth\n"
     ]
    },
    {
     "name": "stderr",
     "output_type": "stream",
     "text": [
      "/Users/wangjinb/anaconda3/lib/python3.7/site-packages/utide/harmonics.py:184: RuntimeWarning: invalid value encountered in fmod\n",
      "  np.fmod(V, 1, out=V)\n"
     ]
    },
    {
     "name": "stdout",
     "output_type": "stream",
     "text": [
      "bandpass to get true NIO\n",
      "generate synthetic wacm\n",
      "PaPa2 wacm data start and end dates are 2007-06-08 2008-05-28\n",
      "seperate hourly truth into low and high frequencies\n",
      "Remove tides from high-frequency truth\n"
     ]
    },
    {
     "name": "stderr",
     "output_type": "stream",
     "text": [
      "/Users/wangjinb/anaconda3/lib/python3.7/site-packages/utide/harmonics.py:184: RuntimeWarning: invalid value encountered in fmod\n",
      "  np.fmod(V, 1, out=V)\n"
     ]
    },
    {
     "name": "stdout",
     "output_type": "stream",
     "text": [
      "bandpass to get true NIO\n",
      "generate synthetic wacm\n",
      "KEO2 wacm data start and end dates are 2007-09-26 2008-09-03\n",
      "seperate hourly truth into low and high frequencies\n",
      "Remove tides from high-frequency truth\n"
     ]
    },
    {
     "name": "stderr",
     "output_type": "stream",
     "text": [
      "/Users/wangjinb/anaconda3/lib/python3.7/site-packages/utide/harmonics.py:184: RuntimeWarning: invalid value encountered in fmod\n",
      "  np.fmod(V, 1, out=V)\n"
     ]
    },
    {
     "name": "stdout",
     "output_type": "stream",
     "text": [
      "bandpass to get true NIO\n",
      "generate synthetic wacm\n",
      "NTAS2 wacm data start and end dates are 2004-02-21 2008-12-31\n",
      "seperate hourly truth into low and high frequencies\n",
      "Remove tides from high-frequency truth\n"
     ]
    },
    {
     "name": "stderr",
     "output_type": "stream",
     "text": [
      "/Users/wangjinb/anaconda3/lib/python3.7/site-packages/utide/harmonics.py:184: RuntimeWarning: invalid value encountered in fmod\n",
      "  np.fmod(V, 1, out=V)\n"
     ]
    },
    {
     "name": "stdout",
     "output_type": "stream",
     "text": [
      "bandpass to get true NIO\n",
      "generate synthetic wacm\n",
      "WHOTS2 wacm data start and end dates are 2004-08-13 2008-12-31\n",
      "seperate hourly truth into low and high frequencies\n",
      "Remove tides from high-frequency truth\n"
     ]
    },
    {
     "name": "stderr",
     "output_type": "stream",
     "text": [
      "/Users/wangjinb/anaconda3/lib/python3.7/site-packages/utide/harmonics.py:184: RuntimeWarning: invalid value encountered in fmod\n",
      "  np.fmod(V, 1, out=V)\n"
     ]
    },
    {
     "name": "stdout",
     "output_type": "stream",
     "text": [
      "bandpass to get true NIO\n",
      "generate synthetic wacm\n",
      "Stratus2 wacm data start and end dates are 2004-01-01 2008-02-29\n",
      "seperate hourly truth into low and high frequencies\n",
      "Remove tides from high-frequency truth\n"
     ]
    },
    {
     "name": "stderr",
     "output_type": "stream",
     "text": [
      "/Users/wangjinb/anaconda3/lib/python3.7/site-packages/utide/harmonics.py:184: RuntimeWarning: invalid value encountered in fmod\n",
      "  np.fmod(V, 1, out=V)\n"
     ]
    },
    {
     "name": "stdout",
     "output_type": "stream",
     "text": [
      "bandpass to get true NIO\n",
      "generate synthetic wacm\n",
      "PaPa2 wacm data start and end dates are 2007-06-08 2008-05-28\n",
      "seperate hourly truth into low and high frequencies\n",
      "Remove tides from high-frequency truth\n"
     ]
    },
    {
     "name": "stderr",
     "output_type": "stream",
     "text": [
      "/Users/wangjinb/anaconda3/lib/python3.7/site-packages/utide/harmonics.py:184: RuntimeWarning: invalid value encountered in fmod\n",
      "  np.fmod(V, 1, out=V)\n"
     ]
    },
    {
     "name": "stdout",
     "output_type": "stream",
     "text": [
      "bandpass to get true NIO\n",
      "generate synthetic wacm\n",
      "KEO2 wacm data start and end dates are 2007-09-26 2008-09-03\n",
      "seperate hourly truth into low and high frequencies\n",
      "Remove tides from high-frequency truth\n"
     ]
    },
    {
     "name": "stderr",
     "output_type": "stream",
     "text": [
      "/Users/wangjinb/anaconda3/lib/python3.7/site-packages/utide/harmonics.py:184: RuntimeWarning: invalid value encountered in fmod\n",
      "  np.fmod(V, 1, out=V)\n"
     ]
    },
    {
     "name": "stdout",
     "output_type": "stream",
     "text": [
      "bandpass to get true NIO\n",
      "generate synthetic wacm\n",
      "NTAS2 wacm data start and end dates are 2004-02-21 2008-12-31\n",
      "seperate hourly truth into low and high frequencies\n",
      "Remove tides from high-frequency truth\n"
     ]
    },
    {
     "name": "stderr",
     "output_type": "stream",
     "text": [
      "/Users/wangjinb/anaconda3/lib/python3.7/site-packages/utide/harmonics.py:184: RuntimeWarning: invalid value encountered in fmod\n",
      "  np.fmod(V, 1, out=V)\n"
     ]
    },
    {
     "name": "stdout",
     "output_type": "stream",
     "text": [
      "bandpass to get true NIO\n",
      "generate synthetic wacm\n",
      "WHOTS2 wacm data start and end dates are 2004-08-13 2008-12-31\n",
      "seperate hourly truth into low and high frequencies\n",
      "Remove tides from high-frequency truth\n"
     ]
    },
    {
     "name": "stderr",
     "output_type": "stream",
     "text": [
      "/Users/wangjinb/anaconda3/lib/python3.7/site-packages/utide/harmonics.py:184: RuntimeWarning: invalid value encountered in fmod\n",
      "  np.fmod(V, 1, out=V)\n"
     ]
    },
    {
     "name": "stdout",
     "output_type": "stream",
     "text": [
      "bandpass to get true NIO\n",
      "generate synthetic wacm\n",
      "Stratus2 wacm data start and end dates are 2004-01-01 2008-02-29\n",
      "seperate hourly truth into low and high frequencies\n",
      "Remove tides from high-frequency truth\n"
     ]
    },
    {
     "name": "stderr",
     "output_type": "stream",
     "text": [
      "/Users/wangjinb/anaconda3/lib/python3.7/site-packages/utide/harmonics.py:184: RuntimeWarning: invalid value encountered in fmod\n",
      "  np.fmod(V, 1, out=V)\n"
     ]
    },
    {
     "name": "stdout",
     "output_type": "stream",
     "text": [
      "bandpass to get true NIO\n",
      "generate synthetic wacm\n",
      "PaPa2 wacm data start and end dates are 2007-06-08 2008-05-28\n",
      "seperate hourly truth into low and high frequencies\n",
      "Remove tides from high-frequency truth\n"
     ]
    },
    {
     "name": "stderr",
     "output_type": "stream",
     "text": [
      "/Users/wangjinb/anaconda3/lib/python3.7/site-packages/utide/harmonics.py:184: RuntimeWarning: invalid value encountered in fmod\n",
      "  np.fmod(V, 1, out=V)\n"
     ]
    },
    {
     "name": "stdout",
     "output_type": "stream",
     "text": [
      "bandpass to get true NIO\n",
      "generate synthetic wacm\n",
      "KEO2 wacm data start and end dates are 2007-09-26 2008-09-03\n",
      "seperate hourly truth into low and high frequencies\n",
      "Remove tides from high-frequency truth\n"
     ]
    },
    {
     "name": "stderr",
     "output_type": "stream",
     "text": [
      "/Users/wangjinb/anaconda3/lib/python3.7/site-packages/utide/harmonics.py:184: RuntimeWarning: invalid value encountered in fmod\n",
      "  np.fmod(V, 1, out=V)\n"
     ]
    },
    {
     "name": "stdout",
     "output_type": "stream",
     "text": [
      "bandpass to get true NIO\n",
      "generate synthetic wacm\n",
      "NTAS2 wacm data start and end dates are 2004-02-21 2008-12-31\n",
      "seperate hourly truth into low and high frequencies\n",
      "Remove tides from high-frequency truth\n"
     ]
    },
    {
     "name": "stderr",
     "output_type": "stream",
     "text": [
      "/Users/wangjinb/anaconda3/lib/python3.7/site-packages/utide/harmonics.py:184: RuntimeWarning: invalid value encountered in fmod\n",
      "  np.fmod(V, 1, out=V)\n"
     ]
    },
    {
     "name": "stdout",
     "output_type": "stream",
     "text": [
      "bandpass to get true NIO\n",
      "generate synthetic wacm\n",
      "WHOTS2 wacm data start and end dates are 2004-08-13 2008-12-31\n",
      "seperate hourly truth into low and high frequencies\n",
      "Remove tides from high-frequency truth\n"
     ]
    },
    {
     "name": "stderr",
     "output_type": "stream",
     "text": [
      "/Users/wangjinb/anaconda3/lib/python3.7/site-packages/utide/harmonics.py:184: RuntimeWarning: invalid value encountered in fmod\n",
      "  np.fmod(V, 1, out=V)\n"
     ]
    },
    {
     "name": "stdout",
     "output_type": "stream",
     "text": [
      "bandpass to get true NIO\n",
      "generate synthetic wacm\n",
      "Stratus2 wacm data start and end dates are 2004-01-01 2008-02-29\n",
      "seperate hourly truth into low and high frequencies\n",
      "Remove tides from high-frequency truth\n"
     ]
    },
    {
     "name": "stderr",
     "output_type": "stream",
     "text": [
      "/Users/wangjinb/anaconda3/lib/python3.7/site-packages/utide/harmonics.py:184: RuntimeWarning: invalid value encountered in fmod\n",
      "  np.fmod(V, 1, out=V)\n"
     ]
    },
    {
     "name": "stdout",
     "output_type": "stream",
     "text": [
      "bandpass to get true NIO\n",
      "generate synthetic wacm\n",
      "PaPa2 wacm data start and end dates are 2007-06-08 2008-05-28\n",
      "seperate hourly truth into low and high frequencies\n",
      "Remove tides from high-frequency truth\n"
     ]
    },
    {
     "name": "stderr",
     "output_type": "stream",
     "text": [
      "/Users/wangjinb/anaconda3/lib/python3.7/site-packages/utide/harmonics.py:184: RuntimeWarning: invalid value encountered in fmod\n",
      "  np.fmod(V, 1, out=V)\n"
     ]
    },
    {
     "name": "stdout",
     "output_type": "stream",
     "text": [
      "bandpass to get true NIO\n",
      "generate synthetic wacm\n",
      "KEO2 wacm data start and end dates are 2007-09-26 2008-09-03\n",
      "seperate hourly truth into low and high frequencies\n",
      "Remove tides from high-frequency truth\n"
     ]
    },
    {
     "name": "stderr",
     "output_type": "stream",
     "text": [
      "/Users/wangjinb/anaconda3/lib/python3.7/site-packages/utide/harmonics.py:184: RuntimeWarning: invalid value encountered in fmod\n",
      "  np.fmod(V, 1, out=V)\n"
     ]
    },
    {
     "name": "stdout",
     "output_type": "stream",
     "text": [
      "bandpass to get true NIO\n",
      "generate synthetic wacm\n",
      "NTAS2 wacm data start and end dates are 2004-02-21 2008-12-31\n",
      "seperate hourly truth into low and high frequencies\n",
      "Remove tides from high-frequency truth\n"
     ]
    },
    {
     "name": "stderr",
     "output_type": "stream",
     "text": [
      "/Users/wangjinb/anaconda3/lib/python3.7/site-packages/utide/harmonics.py:184: RuntimeWarning: invalid value encountered in fmod\n",
      "  np.fmod(V, 1, out=V)\n"
     ]
    },
    {
     "name": "stdout",
     "output_type": "stream",
     "text": [
      "bandpass to get true NIO\n",
      "generate synthetic wacm\n",
      "WHOTS2 wacm data start and end dates are 2004-08-13 2008-12-31\n",
      "seperate hourly truth into low and high frequencies\n",
      "Remove tides from high-frequency truth\n"
     ]
    },
    {
     "name": "stderr",
     "output_type": "stream",
     "text": [
      "/Users/wangjinb/anaconda3/lib/python3.7/site-packages/utide/harmonics.py:184: RuntimeWarning: invalid value encountered in fmod\n",
      "  np.fmod(V, 1, out=V)\n"
     ]
    },
    {
     "name": "stdout",
     "output_type": "stream",
     "text": [
      "bandpass to get true NIO\n",
      "generate synthetic wacm\n",
      "Stratus2 wacm data start and end dates are 2004-01-01 2008-02-29\n",
      "seperate hourly truth into low and high frequencies\n",
      "Remove tides from high-frequency truth\n"
     ]
    },
    {
     "name": "stderr",
     "output_type": "stream",
     "text": [
      "/Users/wangjinb/anaconda3/lib/python3.7/site-packages/utide/harmonics.py:184: RuntimeWarning: invalid value encountered in fmod\n",
      "  np.fmod(V, 1, out=V)\n"
     ]
    },
    {
     "name": "stdout",
     "output_type": "stream",
     "text": [
      "bandpass to get true NIO\n",
      "generate synthetic wacm\n",
      "PaPa2 wacm data start and end dates are 2007-06-08 2008-05-28\n"
     ]
    },
    {
     "ename": "ValueError",
     "evalue": "not enough values to unpack (expected 5, got 2)",
     "output_type": "error",
     "traceback": [
      "\u001b[0;31m---------------------------------------------------------------------------\u001b[0m",
      "\u001b[0;31mValueError\u001b[0m                                Traceback (most recent call last)",
      "\u001b[0;32m<ipython-input-5-88ffe19e538d>\u001b[0m in \u001b[0;36m<module>\u001b[0;34m\u001b[0m\n\u001b[1;32m     40\u001b[0m                     up,vp,utid,vtid,param=d700.get_wacm_nio(t_out,fitting_method=fitting_method,\n\u001b[1;32m     41\u001b[0m                                                             \u001b[0mhas_tides\u001b[0m\u001b[0;34m=\u001b[0m\u001b[0;32mTrue\u001b[0m\u001b[0;34m,\u001b[0m\u001b[0muv_noise\u001b[0m\u001b[0;34m=\u001b[0m\u001b[0muv_noise\u001b[0m\u001b[0;34m,\u001b[0m\u001b[0;34m\u001b[0m\u001b[0;34m\u001b[0m\u001b[0m\n\u001b[0;32m---> 42\u001b[0;31m                                                             wind_noise=0,use_hourly_wind=use_hourly_wind)\n\u001b[0m\u001b[1;32m     43\u001b[0m                     \u001b[0;32mif\u001b[0m \u001b[0mj\u001b[0m\u001b[0;34m==\u001b[0m\u001b[0mn0\u001b[0m\u001b[0;34m:\u001b[0m\u001b[0;34m\u001b[0m\u001b[0;34m\u001b[0m\u001b[0m\n\u001b[1;32m     44\u001b[0m                         \u001b[0mupp\u001b[0m\u001b[0;34m=\u001b[0m\u001b[0mup\u001b[0m\u001b[0;34m*\u001b[0m\u001b[0;36m1\u001b[0m\u001b[0;34m;\u001b[0m\u001b[0mvpp\u001b[0m\u001b[0;34m=\u001b[0m\u001b[0mvp\u001b[0m\u001b[0;34m*\u001b[0m\u001b[0;36m1\u001b[0m\u001b[0;34m\u001b[0m\u001b[0;34m\u001b[0m\u001b[0m\n",
      "\u001b[0;31mValueError\u001b[0m: not enough values to unpack (expected 5, got 2)"
     ]
    }
   ],
   "source": [
    "import slab_model\n",
    "import pylab as plt\n",
    "import numpy as np\n",
    "import xarray as xr\n",
    "from popy import utils\n",
    "from scipy.io import loadmat\n",
    "import pandas as pd\n",
    "\n",
    "\n",
    "\n",
    "for fitting_method in ['Slab','Harmonics']:\n",
    "    for use_hourly_wind in [False, True]:\n",
    "        for orbit in ['700_1800','hourly']\n",
    "            for uv_noise in [0,0.01,0.02,0.04,0.06,0.08,0.1,0.12]:\n",
    "                for station in ss[:1]:\n",
    "                \n",
    "                    d700=slab_model.create_wacm_from_mooring(station,1/4,1/4,'700_1800')\n",
    "\n",
    "                    time=d700.u_wacm_total.time.values\n",
    "\n",
    "                    ndays=10 #days\n",
    "                    nn=int((ndays*24)//d700.wacm_sampling_period)\n",
    "\n",
    "                    tstart=np.datetime64(str(time[0])[:10])\n",
    "                    tend=np.datetime64(str(time[-1])[:10])\n",
    "                    if 'Stratus' in station:\n",
    "                        tend=np.datetime64('2008-02-29') #for stratus\n",
    "\n",
    "                    print(station, 'wacm data start and end dates are', tstart,tend)\n",
    "\n",
    "                    total_hours=(tend-tstart)/np.timedelta64(1,'h')\n",
    "\n",
    "                    newtime=pd.date_range(tstart, periods=total_hours, freq='1h')\n",
    "\n",
    "                    incre_days=10\n",
    "                    n0=ndays*24//2\n",
    "\n",
    "                    for j in np.arange(n0,newtime.size-n0,incre_days*24): \n",
    "\n",
    "                        t_out=newtime[j-n0:j+n0]\n",
    "\n",
    "                        #print(t_out.min(),t_out.max())\n",
    "                        up,vp,utid,vtid,param=d700.get_wacm_nio(t_out,fitting_method=fitting_method,\n",
    "                                                                has_tides=True,uv_noise=uv_noise,\n",
    "                                                                wind_noise=0,use_hourly_wind=use_hourly_wind)\n",
    "                        if j==n0:\n",
    "                            upp=up*1;vpp=vp*1\n",
    "                            utidd=utid*1;vtidd=vtid*1\n",
    "                        else:\n",
    "                            upp=xr.concat([upp,up*1],dim='time')\n",
    "                            vpp=xr.concat([vpp,vp*1],dim='time')\n",
    "                            utidd=xr.concat([vtidd,vtid*1],dim='time')\n",
    "                            vtidd=xr.concat([vtidd,vtid*1],dim='time')\n",
    "\n",
    "                        del up,vp,utid,vtid\n",
    "\n",
    "                    d700.nio_reconstruction_u=upp\n",
    "                    d700.nio_reconstruction_v=vpp\n",
    "                    d700.reconstruction_tides_u=utidd\n",
    "                    d700.reconstruction_tides_v=vtidd\n",
    "\n",
    "                    if use_hourly_wind:\n",
    "                        fnout='data/reconstruction_hourly_wind/reconstruction_%s_uvnoise_%4.2f_%s_%s.pkl'%(station,uv_noise,fitting_method,orbit)\n",
    "                    else:\n",
    "                        fnout='data/reconstruction_wacm_wind/reconstruction_%s_uvnoise_%4.2f_%s_%s.pkl'%(station,uv_noise,fitting_method,orbit)\n",
    "\n",
    "                    with open(fnout, 'wb') as ff:\n",
    "                        pickle.dump(d700,ff,pickle.HIGHEST_PROTOCOL)\n",
    "                    del d700"
   ]
  },
  {
   "cell_type": "code",
   "execution_count": null,
   "metadata": {},
   "outputs": [],
   "source": [
    "time=d700.u_wacm_total.time.values\n",
    "u,v,H,c=[],[],[],[]\n",
    "print(time.size)\n",
    "nn=10 #days\n",
    "\n",
    "freq=1 #days\n",
    "fig,ax=plt.subplots(figsize=(30,10))\n",
    "\n",
    "for i in range(1):\n",
    "    print(i)\n",
    "    for j in pd.date_range(time[20],periods=4,freq='%iD'%freq):\n",
    "        t00=j-np.timedelta64(int(nn/2*24)-i*12,'h') \n",
    "        t11=j+np.timedelta64(int(nn/2*24)+i*12,'h') \n",
    "        uwacm=d700.u_truth_total.sel(time=slice(t00,t11))\n",
    "        t0=uwacm.time.values[0]\n",
    "        t1=uwacm.time.values[-1]\n",
    "        newt=pd.date_range(j-np.timedelta64(freq*12,'h'), periods=freq*24, freq='h')\n",
    "        \n",
    "        #t0=time[j];t1=time[j+nn]\n",
    "        up,vp,param=d700.get_wacm_nio(t0,t1,has_tides=True,use_hourly_wind=False)\n",
    "        up.plot(ax=ax)\n",
    "        try:    \n",
    "            upp=xr.concat([upp,up.interp(time=newt)],dim='time')\n",
    "            vpp=xr.concat([vpp,vp.interp(time=newt)],dim='time')\n",
    "            print(t0,t1,param['cost'],param['H'])\n",
    "            del up,vp\n",
    "        except:\n",
    "            upp=up.interp(time=newt)\n",
    "            vpp=vp.interp(time=newt)\n",
    "            print(t0,t1,param['cost'],param['H'])\n",
    "        \n",
    "\n",
    "    u.append(upp)\n",
    "    v.append(vpp)\n",
    "    del upp,vpp\n",
    "d700.u_truth_high_notide.sel(time=slice(u[0].time.values[0],u[-1].time.values[-1])).plot(color='k',lw=2)\n",
    "d700.u_truth_high_notide_nio.sel(time=slice(u[0].time.values[0],u[-1].time.values[-1])).plot(color='gray',lw=2)"
   ]
  },
  {
   "cell_type": "code",
   "execution_count": null,
   "metadata": {},
   "outputs": [],
   "source": [
    "fig,ax=plt.subplots(figsize=(30,10))\n",
    "d700.u_truth_high_notide.sel(time=slice(u[0].time.values[0],u[-1].time.values[-1])).plot(color='k',lw=3)\n",
    "#d700.u_truth_high_notide_nio.sel(time=slice(u[0].time.values[0],u[-1].time.values[-1])).plot(color='r',lw=1)\n",
    "for uu in u:\n",
    "    c=mysignal.filter_butter(uu.values,[0.96*f0,1.04*f0],2*np.pi/3600,'bandpass')\n",
    "    uu.plot()\n",
    "    u0=uu.copy()\n",
    "    u0.data[:]=c[:]\n",
    "    #u0.plot(color='g')\n"
   ]
  },
  {
   "cell_type": "code",
   "execution_count": null,
   "metadata": {},
   "outputs": [],
   "source": [
    "#loop through every ten days\n",
    "\n",
    "\n",
    "ttend=d700.u_wacm_total[-1].time.data\n",
    "\n",
    "total_days=uobs.size//24\n",
    "\n",
    "for t00 in d700.u_wacm_total[:4].time.values:\n",
    "    u_wacm_nio=uobs*0\n",
    "    v_wacm_nio=vobs*0\n",
    "    H_wacm=uobs*0\n",
    "    c_wacm=uobs*0\n",
    "    #print(i,np.datetime64('now'))\n",
    "    #for ii in range(i,8541-240,240)[:5]: \n",
    "    print(t00)\n",
    "    print(pd.date_range(t00,'2008-05-28T21:20:00.000000000',freq='6D'))\n",
    "    for it0 in np.range(0,total_days,6*24):\n",
    "        t0=t00+np.timedelta64(it0,'h')\n",
    "        t1=t0+np.timedelta64(it0+6*24,'h')\n",
    "        t_out=u_wacm_nio.sel(time=slice(t0,t1)).data[:]\n",
    "        up,vp,param=d700.get_wacm_nio(t0,t1,use_hourly_wind=True)\n",
    "        u_wacm_nio.sel(time=slice(t0,t1)).data[:]=up.interp(time=t_out).data[:]\n",
    "        v_wacm_nio.sel(time=slice(t0,t1)).data[:]=vp.interp(time=t_out).data[:]\n",
    "        #H_wacm[ii:ii+240].data[:]=param['H']\n",
    "        #c_wacm[ii:ii+240].data[:]=param['c']\n",
    "    u.append(u_wacm_nio)\n",
    "    v.append(v_wacm_nio)\n",
    "    #H.append(H_wacm)\n",
    "    #c.append(c_wacm)\n",
    "    "
   ]
  },
  {
   "cell_type": "code",
   "execution_count": null,
   "metadata": {},
   "outputs": [],
   "source": [
    "fig,ax=plt.subplots(3,1,figsize=(10,10))\n",
    "d700.u_truth_high_notide_nio.sel(time=slice('2007-09-20 00:00:00',t1)).plot(ax=ax[0],color='k',lw=3)\n",
    "\n",
    "for uu in u:\n",
    "    uu.plot(ax=ax[0])\n"
   ]
  },
  {
   "cell_type": "code",
   "execution_count": null,
   "metadata": {},
   "outputs": [],
   "source": [
    "uu=xr.DataArray(np.zeros((24,u[0].size)), dims=('case','time'),\n",
    "                coords={'case':range(24),'time':u[0].time.values})\n",
    "vv=xr.DataArray(np.zeros((24,u[0].size)), dims=('case','time'),\n",
    "                coords={'case':range(24),'time':u[0].time.values})\n",
    "\n",
    "for i in range(4):\n",
    "    uu[i,:]=u[i].interp(time=u[0].time.values)\n",
    "    vv[i,:]=v[i].interp(time=u[0].time.values)\n",
    "\n",
    "fig,ax=plt.subplots(3,1,figsize=(10,10))\n",
    "\n",
    "tt0,tt1='2007-06-20','2007-06-29'\n",
    "for i in range(4):\n",
    "    #uu[i,:].sel(time=slice(tt0,tt1)).plot(ax=ax[0],color='gray')\n",
    "    u[i].sel(time=slice(tt0,tt1)).plot(ax=ax[0])\n",
    "    d700.u_truth_high_notide_nio.sel(time=slice(tt0,tt1)).plot(ax=ax[0],color='gray',lw=3)\n",
    "    \n",
    "uu=d700.u_truth_high_notide_nio\n",
    "vv=d700.v_truth_high_notide_nio\n",
    "\n",
    "\n",
    "((uu**2+vv**2)**0.5).resample(time='1D').mean().plot(color='red',lw=1)"
   ]
  },
  {
   "cell_type": "code",
   "execution_count": null,
   "metadata": {},
   "outputs": [],
   "source": [
    "((u_wacm_nio**2+v_wacm_nio**2)**0.5).resample(time='1D').mean().plot(label='wacm')\n",
    "((d700.u_truth_high_notide_nio**2+d700.v_truth_high_notide_nio**2)**0.5).resample(time='1D').mean().plot(label='true')\n",
    "plt.legend()"
   ]
  },
  {
   "cell_type": "code",
   "execution_count": null,
   "metadata": {},
   "outputs": [],
   "source": []
  }
 ],
 "metadata": {
  "kernelspec": {
   "display_name": "Python 3",
   "language": "python",
   "name": "python3"
  },
  "language_info": {
   "codemirror_mode": {
    "name": "ipython",
    "version": 3
   },
   "file_extension": ".py",
   "mimetype": "text/x-python",
   "name": "python",
   "nbconvert_exporter": "python",
   "pygments_lexer": "ipython3",
   "version": "3.7.6"
  }
 },
 "nbformat": 4,
 "nbformat_minor": 4
}
