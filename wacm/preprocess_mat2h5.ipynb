{
 "cells": [
  {
   "cell_type": "markdown",
   "id": "381c729f-2e74-4b5f-881e-d80d64dfcb47",
   "metadata": {},
   "source": [
    "Convert .mat file to HDF5\n",
    "========"
   ]
  },
  {
   "cell_type": "code",
   "execution_count": 26,
   "id": "f24f3a46-df67-47b1-898a-d6dbe71b0c93",
   "metadata": {},
   "outputs": [],
   "source": [
    "import slab_model\n",
    "import pylab as plt\n",
    "import numpy as np\n",
    "import xarray as xr\n",
    "from popy import utils,mysignal\n",
    "from scipy.io import loadmat\n",
    "import pandas as pd\n",
    "import pickle\n",
    "\n",
    "xrod=xr.open_dataset\n",
    "\n",
    "#########\n",
    "keys=['UU_mod5', 'UU_modt', 'UU_modx', 'UU_obs', \n",
    "      'Uwind_5', 'Uwind_o', 'Uwind_x', 'VV_mod5', \n",
    "      'VV_modt', 'VV_modx', 'VV_obs', 'Vwind_5', 'Vwind_o', \n",
    "      'Vwind_x']\n",
    "       \n",
    "for station in ['PaPa2','KEO2','NTAS2','Stratus2','WHOTS2']:\n",
    "    fn='../data/from_Hong/%s.mat'%station\n",
    "    d=loadmat(fn)\n",
    "    dout={}\n",
    "    t0=d['readme'][0].split(';')[1].split(':')[0]\n",
    "    \n",
    "    tt=pd.date_range(t0,periods=d['UU_obs'].size,freq='1h')\n",
    "    \n",
    "    for key in keys:\n",
    "        dout[key]=xr.DataArray(d[key][:].flatten(),dims=('time'),coords={'time':tt} )\n",
    "    \n",
    "    lat=np.float64(d['readme'][0].split('lat=')[1].split(')')[0])\n",
    "    \n",
    "    dout=xr.Dataset(dout)\n",
    "    dout.attrs={'readme':d['readme'],'lat0':lat}\n",
    "\n",
    "    dout.to_netcdf('../data/from_Hong/%s.h5'%station)\n",
    "    del d"
   ]
  },
  {
   "cell_type": "code",
   "execution_count": null,
   "id": "bdb38362-5fcd-4519-87d5-2963f3555ecb",
   "metadata": {},
   "outputs": [],
   "source": []
  }
 ],
 "metadata": {
  "kernelspec": {
   "display_name": "Python 3",
   "language": "python",
   "name": "python3"
  },
  "language_info": {
   "codemirror_mode": {
    "name": "ipython",
    "version": 3
   },
   "file_extension": ".py",
   "mimetype": "text/x-python",
   "name": "python",
   "nbconvert_exporter": "python",
   "pygments_lexer": "ipython3",
   "version": "3.9.7"
  }
 },
 "nbformat": 4,
 "nbformat_minor": 5
}
