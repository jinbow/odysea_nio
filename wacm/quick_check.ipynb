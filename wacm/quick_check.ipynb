{
 "cells": [
  {
   "cell_type": "markdown",
   "metadata": {},
   "source": [
    "Quick check calculation\n",
    "====================="
   ]
  },
  {
   "cell_type": "markdown",
   "metadata": {},
   "source": [
    "## Calculation"
   ]
  },
  {
   "cell_type": "code",
   "execution_count": 1,
   "metadata": {},
   "outputs": [
    {
     "name": "stdout",
     "output_type": "stream",
     "text": [
      "seperate hourly truth into low and high frequencies\n",
      "Remove tides from high-frequency truth\n"
     ]
    },
    {
     "name": "stderr",
     "output_type": "stream",
     "text": [
      "/Users/wangjinb/anaconda3/lib/python3.7/site-packages/utide/harmonics.py:184: RuntimeWarning: invalid value encountered in fmod\n",
      "  np.fmod(V, 1, out=V)\n"
     ]
    },
    {
     "name": "stdout",
     "output_type": "stream",
     "text": [
      "bandpass to get true NIO\n",
      "generate synthetic wacm\n",
      "<xarray.DataArray 'time' ()>\n",
      "array('2007-09-26T11:00:00.000000000', dtype='datetime64[ns]')\n",
      "Coordinates:\n",
      "    time     datetime64[ns] 2007-09-26T11:00:00 22.402274808398204 14.905330677290838\n",
      "2007-10-17T13:46:46.000000000\n",
      "seperate hourly truth into low and high frequencies\n",
      "Remove tides from high-frequency truth\n"
     ]
    },
    {
     "name": "stderr",
     "output_type": "stream",
     "text": [
      "/Users/wangjinb/anaconda3/lib/python3.7/site-packages/utide/harmonics.py:184: RuntimeWarning: invalid value encountered in fmod\n",
      "  np.fmod(V, 1, out=V)\n"
     ]
    },
    {
     "name": "stdout",
     "output_type": "stream",
     "text": [
      "bandpass to get true NIO\n",
      "generate synthetic wacm\n"
     ]
    },
    {
     "ename": "KeyboardInterrupt",
     "evalue": "",
     "output_type": "error",
     "traceback": [
      "\u001b[0;31m---------------------------------------------------------------------------\u001b[0m",
      "\u001b[0;31mKeyboardInterrupt\u001b[0m                         Traceback (most recent call last)",
      "\u001b[0;32m<ipython-input-1-cf5225898a14>\u001b[0m in \u001b[0;36m<module>\u001b[0;34m\u001b[0m\n\u001b[1;32m     36\u001b[0m                                         \u001b[0mhas_tides\u001b[0m\u001b[0;34m=\u001b[0m\u001b[0;32mFalse\u001b[0m\u001b[0;34m,\u001b[0m\u001b[0muv_noise\u001b[0m\u001b[0;34m=\u001b[0m\u001b[0;36m0.\u001b[0m\u001b[0;34m,\u001b[0m\u001b[0;34m\u001b[0m\u001b[0;34m\u001b[0m\u001b[0m\n\u001b[1;32m     37\u001b[0m                                         \u001b[0mwind_noise\u001b[0m\u001b[0;34m=\u001b[0m\u001b[0;36m0\u001b[0m\u001b[0;34m,\u001b[0m\u001b[0muse_hourly_wind\u001b[0m\u001b[0;34m=\u001b[0m\u001b[0;32mFalse\u001b[0m\u001b[0;34m,\u001b[0m\u001b[0;34m\u001b[0m\u001b[0;34m\u001b[0m\u001b[0m\n\u001b[0;32m---> 38\u001b[0;31m                                        include_nio=True)\n\u001b[0m\u001b[1;32m     39\u001b[0m \u001b[0;34m\u001b[0m\u001b[0m\n\u001b[1;32m     40\u001b[0m \u001b[0md700\u001b[0m\u001b[0;34m.\u001b[0m\u001b[0mu_truth_high_notide_nio\u001b[0m\u001b[0;34m.\u001b[0m\u001b[0minterp\u001b[0m\u001b[0;34m(\u001b[0m\u001b[0mtime\u001b[0m\u001b[0;34m=\u001b[0m\u001b[0mup\u001b[0m\u001b[0;34m.\u001b[0m\u001b[0mtime\u001b[0m\u001b[0;34m)\u001b[0m\u001b[0;34m.\u001b[0m\u001b[0mplot\u001b[0m\u001b[0;34m(\u001b[0m\u001b[0mlabel\u001b[0m\u001b[0;34m=\u001b[0m\u001b[0;34m'obs nio'\u001b[0m\u001b[0;34m,\u001b[0m\u001b[0max\u001b[0m\u001b[0;34m=\u001b[0m\u001b[0maxx\u001b[0m\u001b[0;34m,\u001b[0m\u001b[0mcolor\u001b[0m\u001b[0;34m=\u001b[0m\u001b[0;34m'k'\u001b[0m\u001b[0;34m)\u001b[0m\u001b[0;34m\u001b[0m\u001b[0;34m\u001b[0m\u001b[0m\n",
      "\u001b[0;32m~/inSync Share/WaCM/wacm_tools/wacm/slab_model.py\u001b[0m in \u001b[0;36mget_wacm_nio\u001b[0;34m(self, t_out, t_out_short, uv_noise, wind_noise, has_tides, use_hourly_wind, fitting_method, periods, include_nio)\u001b[0m\n\u001b[1;32m    126\u001b[0m             utid,vtid,param=optimize_harmonics(u,v,self.f0,\n\u001b[1;32m    127\u001b[0m                       \u001b[0mperiods\u001b[0m\u001b[0;34m=\u001b[0m\u001b[0;34m[\u001b[0m\u001b[0;36m1.07581\u001b[0m\u001b[0;34m,\u001b[0m \u001b[0;36m0.99727\u001b[0m\u001b[0;34m,\u001b[0m \u001b[0;36m0.517525\u001b[0m\u001b[0;34m,\u001b[0m \u001b[0;36m0.5\u001b[0m\u001b[0;34m,\u001b[0m \u001b[0;36m0.2587625\u001b[0m\u001b[0;34m,\u001b[0m \u001b[0;36m0.2587625\u001b[0m\u001b[0;34m]\u001b[0m\u001b[0;34m,\u001b[0m\u001b[0;34m\u001b[0m\u001b[0;34m\u001b[0m\u001b[0m\n\u001b[0;32m--> 128\u001b[0;31m                       include_nio=False)\n\u001b[0m\u001b[1;32m    129\u001b[0m             \u001b[0;32mif\u001b[0m \u001b[0mhas_tides\u001b[0m\u001b[0;34m:\u001b[0m\u001b[0;34m\u001b[0m\u001b[0;34m\u001b[0m\u001b[0m\n\u001b[1;32m    130\u001b[0m                 \u001b[0mu\u001b[0m\u001b[0;34m=\u001b[0m\u001b[0mu\u001b[0m\u001b[0;34m-\u001b[0m\u001b[0mutid\u001b[0m\u001b[0;34m.\u001b[0m\u001b[0minterp\u001b[0m\u001b[0;34m(\u001b[0m\u001b[0mtime\u001b[0m\u001b[0;34m=\u001b[0m\u001b[0mu\u001b[0m\u001b[0;34m.\u001b[0m\u001b[0mtime\u001b[0m\u001b[0;34m.\u001b[0m\u001b[0mvalues\u001b[0m\u001b[0;34m)\u001b[0m\u001b[0;34m\u001b[0m\u001b[0;34m\u001b[0m\u001b[0m\n",
      "\u001b[0;32m~/inSync Share/WaCM/wacm_tools/wacm/slab_model.py\u001b[0m in \u001b[0;36moptimize_harmonics\u001b[0;34m(u, v, f0, t_out, periods, include_nio)\u001b[0m\n\u001b[1;32m    987\u001b[0m \u001b[0;34m\u001b[0m\u001b[0m\n\u001b[1;32m    988\u001b[0m     res_lsq = least_squares(loss_harmonics, x0, loss='cauchy',\n\u001b[0;32m--> 989\u001b[0;31m                         args=(uv,t_uv_days,periods,weight)) \n\u001b[0m\u001b[1;32m    990\u001b[0m     \u001b[0;31m#print(res_lsq)\u001b[0m\u001b[0;34m\u001b[0m\u001b[0;34m\u001b[0m\u001b[0;34m\u001b[0m\u001b[0m\n\u001b[1;32m    991\u001b[0m     \u001b[0;32mif\u001b[0m \u001b[0mlen\u001b[0m\u001b[0;34m(\u001b[0m\u001b[0mt_out\u001b[0m\u001b[0;34m)\u001b[0m\u001b[0;34m==\u001b[0m\u001b[0;36m0\u001b[0m\u001b[0;34m:\u001b[0m\u001b[0;34m\u001b[0m\u001b[0;34m\u001b[0m\u001b[0m\n",
      "\u001b[0;32m~/anaconda3/lib/python3.7/site-packages/scipy/optimize/_lsq/least_squares.py\u001b[0m in \u001b[0;36mleast_squares\u001b[0;34m(fun, x0, jac, bounds, method, ftol, xtol, gtol, x_scale, loss, f_scale, diff_step, tr_solver, tr_options, jac_sparsity, max_nfev, verbose, args, kwargs)\u001b[0m\n\u001b[1;32m    915\u001b[0m         result = trf(fun_wrapped, jac_wrapped, x0, f0, J0, lb, ub, ftol, xtol,\n\u001b[1;32m    916\u001b[0m                      \u001b[0mgtol\u001b[0m\u001b[0;34m,\u001b[0m \u001b[0mmax_nfev\u001b[0m\u001b[0;34m,\u001b[0m \u001b[0mx_scale\u001b[0m\u001b[0;34m,\u001b[0m \u001b[0mloss_function\u001b[0m\u001b[0;34m,\u001b[0m \u001b[0mtr_solver\u001b[0m\u001b[0;34m,\u001b[0m\u001b[0;34m\u001b[0m\u001b[0;34m\u001b[0m\u001b[0m\n\u001b[0;32m--> 917\u001b[0;31m                      tr_options.copy(), verbose)\n\u001b[0m\u001b[1;32m    918\u001b[0m \u001b[0;34m\u001b[0m\u001b[0m\n\u001b[1;32m    919\u001b[0m     \u001b[0;32melif\u001b[0m \u001b[0mmethod\u001b[0m \u001b[0;34m==\u001b[0m \u001b[0;34m'dogbox'\u001b[0m\u001b[0;34m:\u001b[0m\u001b[0;34m\u001b[0m\u001b[0;34m\u001b[0m\u001b[0m\n",
      "\u001b[0;32m~/anaconda3/lib/python3.7/site-packages/scipy/optimize/_lsq/trf.py\u001b[0m in \u001b[0;36mtrf\u001b[0;34m(fun, jac, x0, f0, J0, lb, ub, ftol, xtol, gtol, max_nfev, x_scale, loss_function, tr_solver, tr_options, verbose)\u001b[0m\n\u001b[1;32m    119\u001b[0m         return trf_no_bounds(\n\u001b[1;32m    120\u001b[0m             \u001b[0mfun\u001b[0m\u001b[0;34m,\u001b[0m \u001b[0mjac\u001b[0m\u001b[0;34m,\u001b[0m \u001b[0mx0\u001b[0m\u001b[0;34m,\u001b[0m \u001b[0mf0\u001b[0m\u001b[0;34m,\u001b[0m \u001b[0mJ0\u001b[0m\u001b[0;34m,\u001b[0m \u001b[0mftol\u001b[0m\u001b[0;34m,\u001b[0m \u001b[0mxtol\u001b[0m\u001b[0;34m,\u001b[0m \u001b[0mgtol\u001b[0m\u001b[0;34m,\u001b[0m \u001b[0mmax_nfev\u001b[0m\u001b[0;34m,\u001b[0m \u001b[0mx_scale\u001b[0m\u001b[0;34m,\u001b[0m\u001b[0;34m\u001b[0m\u001b[0;34m\u001b[0m\u001b[0m\n\u001b[0;32m--> 121\u001b[0;31m             loss_function, tr_solver, tr_options, verbose)\n\u001b[0m\u001b[1;32m    122\u001b[0m     \u001b[0;32melse\u001b[0m\u001b[0;34m:\u001b[0m\u001b[0;34m\u001b[0m\u001b[0;34m\u001b[0m\u001b[0m\n\u001b[1;32m    123\u001b[0m         return trf_bounds(\n",
      "\u001b[0;32m~/anaconda3/lib/python3.7/site-packages/scipy/optimize/_lsq/trf.py\u001b[0m in \u001b[0;36mtrf_no_bounds\u001b[0;34m(fun, jac, x0, f0, J0, ftol, xtol, gtol, max_nfev, x_scale, loss_function, tr_solver, tr_options, verbose)\u001b[0m\n\u001b[1;32m    534\u001b[0m             \u001b[0mcost\u001b[0m \u001b[0;34m=\u001b[0m \u001b[0mcost_new\u001b[0m\u001b[0;34m\u001b[0m\u001b[0;34m\u001b[0m\u001b[0m\n\u001b[1;32m    535\u001b[0m \u001b[0;34m\u001b[0m\u001b[0m\n\u001b[0;32m--> 536\u001b[0;31m             \u001b[0mJ\u001b[0m \u001b[0;34m=\u001b[0m \u001b[0mjac\u001b[0m\u001b[0;34m(\u001b[0m\u001b[0mx\u001b[0m\u001b[0;34m,\u001b[0m \u001b[0mf\u001b[0m\u001b[0;34m)\u001b[0m\u001b[0;34m\u001b[0m\u001b[0;34m\u001b[0m\u001b[0m\n\u001b[0m\u001b[1;32m    537\u001b[0m             \u001b[0mnjev\u001b[0m \u001b[0;34m+=\u001b[0m \u001b[0;36m1\u001b[0m\u001b[0;34m\u001b[0m\u001b[0;34m\u001b[0m\u001b[0m\n\u001b[1;32m    538\u001b[0m \u001b[0;34m\u001b[0m\u001b[0m\n",
      "\u001b[0;32m~/anaconda3/lib/python3.7/site-packages/scipy/optimize/_lsq/least_squares.py\u001b[0m in \u001b[0;36mjac_wrapped\u001b[0;34m(x, f)\u001b[0m\n\u001b[1;32m    873\u001b[0m                 J = approx_derivative(fun, x, rel_step=diff_step, method=jac,\n\u001b[1;32m    874\u001b[0m                                       \u001b[0mf0\u001b[0m\u001b[0;34m=\u001b[0m\u001b[0mf\u001b[0m\u001b[0;34m,\u001b[0m \u001b[0mbounds\u001b[0m\u001b[0;34m=\u001b[0m\u001b[0mbounds\u001b[0m\u001b[0;34m,\u001b[0m \u001b[0margs\u001b[0m\u001b[0;34m=\u001b[0m\u001b[0margs\u001b[0m\u001b[0;34m,\u001b[0m\u001b[0;34m\u001b[0m\u001b[0;34m\u001b[0m\u001b[0m\n\u001b[0;32m--> 875\u001b[0;31m                                       kwargs=kwargs, sparsity=jac_sparsity)\n\u001b[0m\u001b[1;32m    876\u001b[0m                 \u001b[0;32mif\u001b[0m \u001b[0mJ\u001b[0m\u001b[0;34m.\u001b[0m\u001b[0mndim\u001b[0m \u001b[0;34m!=\u001b[0m \u001b[0;36m2\u001b[0m\u001b[0;34m:\u001b[0m  \u001b[0;31m# J is guaranteed not sparse.\u001b[0m\u001b[0;34m\u001b[0m\u001b[0;34m\u001b[0m\u001b[0m\n\u001b[1;32m    877\u001b[0m                     \u001b[0mJ\u001b[0m \u001b[0;34m=\u001b[0m \u001b[0mnp\u001b[0m\u001b[0;34m.\u001b[0m\u001b[0matleast_2d\u001b[0m\u001b[0;34m(\u001b[0m\u001b[0mJ\u001b[0m\u001b[0;34m)\u001b[0m\u001b[0;34m\u001b[0m\u001b[0;34m\u001b[0m\u001b[0m\n",
      "\u001b[0;32m~/anaconda3/lib/python3.7/site-packages/scipy/optimize/_numdiff.py\u001b[0m in \u001b[0;36mapprox_derivative\u001b[0;34m(fun, x0, method, rel_step, abs_step, f0, bounds, sparsity, as_linear_operator, args, kwargs)\u001b[0m\n\u001b[1;32m    425\u001b[0m         \u001b[0;32mif\u001b[0m \u001b[0msparsity\u001b[0m \u001b[0;32mis\u001b[0m \u001b[0;32mNone\u001b[0m\u001b[0;34m:\u001b[0m\u001b[0;34m\u001b[0m\u001b[0;34m\u001b[0m\u001b[0m\n\u001b[1;32m    426\u001b[0m             return _dense_difference(fun_wrapped, x0, f0, h,\n\u001b[0;32m--> 427\u001b[0;31m                                      use_one_sided, method)\n\u001b[0m\u001b[1;32m    428\u001b[0m         \u001b[0;32melse\u001b[0m\u001b[0;34m:\u001b[0m\u001b[0;34m\u001b[0m\u001b[0;34m\u001b[0m\u001b[0m\n\u001b[1;32m    429\u001b[0m             \u001b[0;32mif\u001b[0m \u001b[0;32mnot\u001b[0m \u001b[0missparse\u001b[0m\u001b[0;34m(\u001b[0m\u001b[0msparsity\u001b[0m\u001b[0;34m)\u001b[0m \u001b[0;32mand\u001b[0m \u001b[0mlen\u001b[0m\u001b[0;34m(\u001b[0m\u001b[0msparsity\u001b[0m\u001b[0;34m)\u001b[0m \u001b[0;34m==\u001b[0m \u001b[0;36m2\u001b[0m\u001b[0;34m:\u001b[0m\u001b[0;34m\u001b[0m\u001b[0;34m\u001b[0m\u001b[0m\n",
      "\u001b[0;32m~/anaconda3/lib/python3.7/site-packages/scipy/optimize/_numdiff.py\u001b[0m in \u001b[0;36m_dense_difference\u001b[0;34m(fun, x0, f0, h, use_one_sided, method)\u001b[0m\n\u001b[1;32m    495\u001b[0m             \u001b[0mx\u001b[0m \u001b[0;34m=\u001b[0m \u001b[0mx0\u001b[0m \u001b[0;34m+\u001b[0m \u001b[0mh_vecs\u001b[0m\u001b[0;34m[\u001b[0m\u001b[0mi\u001b[0m\u001b[0;34m]\u001b[0m\u001b[0;34m\u001b[0m\u001b[0;34m\u001b[0m\u001b[0m\n\u001b[1;32m    496\u001b[0m             \u001b[0mdx\u001b[0m \u001b[0;34m=\u001b[0m \u001b[0mx\u001b[0m\u001b[0;34m[\u001b[0m\u001b[0mi\u001b[0m\u001b[0;34m]\u001b[0m \u001b[0;34m-\u001b[0m \u001b[0mx0\u001b[0m\u001b[0;34m[\u001b[0m\u001b[0mi\u001b[0m\u001b[0;34m]\u001b[0m  \u001b[0;31m# Recompute dx as exactly representable number.\u001b[0m\u001b[0;34m\u001b[0m\u001b[0;34m\u001b[0m\u001b[0m\n\u001b[0;32m--> 497\u001b[0;31m             \u001b[0mdf\u001b[0m \u001b[0;34m=\u001b[0m \u001b[0mfun\u001b[0m\u001b[0;34m(\u001b[0m\u001b[0mx\u001b[0m\u001b[0;34m)\u001b[0m \u001b[0;34m-\u001b[0m \u001b[0mf0\u001b[0m\u001b[0;34m\u001b[0m\u001b[0;34m\u001b[0m\u001b[0m\n\u001b[0m\u001b[1;32m    498\u001b[0m         \u001b[0;32melif\u001b[0m \u001b[0mmethod\u001b[0m \u001b[0;34m==\u001b[0m \u001b[0;34m'3-point'\u001b[0m \u001b[0;32mand\u001b[0m \u001b[0muse_one_sided\u001b[0m\u001b[0;34m[\u001b[0m\u001b[0mi\u001b[0m\u001b[0;34m]\u001b[0m\u001b[0;34m:\u001b[0m\u001b[0;34m\u001b[0m\u001b[0;34m\u001b[0m\u001b[0m\n\u001b[1;32m    499\u001b[0m             \u001b[0mx1\u001b[0m \u001b[0;34m=\u001b[0m \u001b[0mx0\u001b[0m \u001b[0;34m+\u001b[0m \u001b[0mh_vecs\u001b[0m\u001b[0;34m[\u001b[0m\u001b[0mi\u001b[0m\u001b[0;34m]\u001b[0m\u001b[0;34m\u001b[0m\u001b[0;34m\u001b[0m\u001b[0m\n",
      "\u001b[0;32m~/anaconda3/lib/python3.7/site-packages/scipy/optimize/_numdiff.py\u001b[0m in \u001b[0;36mfun_wrapped\u001b[0;34m(x)\u001b[0m\n\u001b[1;32m    375\u001b[0m \u001b[0;34m\u001b[0m\u001b[0m\n\u001b[1;32m    376\u001b[0m     \u001b[0;32mdef\u001b[0m \u001b[0mfun_wrapped\u001b[0m\u001b[0;34m(\u001b[0m\u001b[0mx\u001b[0m\u001b[0;34m)\u001b[0m\u001b[0;34m:\u001b[0m\u001b[0;34m\u001b[0m\u001b[0;34m\u001b[0m\u001b[0m\n\u001b[0;32m--> 377\u001b[0;31m         \u001b[0mf\u001b[0m \u001b[0;34m=\u001b[0m \u001b[0mnp\u001b[0m\u001b[0;34m.\u001b[0m\u001b[0matleast_1d\u001b[0m\u001b[0;34m(\u001b[0m\u001b[0mfun\u001b[0m\u001b[0;34m(\u001b[0m\u001b[0mx\u001b[0m\u001b[0;34m,\u001b[0m \u001b[0;34m*\u001b[0m\u001b[0margs\u001b[0m\u001b[0;34m,\u001b[0m \u001b[0;34m**\u001b[0m\u001b[0mkwargs\u001b[0m\u001b[0;34m)\u001b[0m\u001b[0;34m)\u001b[0m\u001b[0;34m\u001b[0m\u001b[0;34m\u001b[0m\u001b[0m\n\u001b[0m\u001b[1;32m    378\u001b[0m         \u001b[0;32mif\u001b[0m \u001b[0mf\u001b[0m\u001b[0;34m.\u001b[0m\u001b[0mndim\u001b[0m \u001b[0;34m>\u001b[0m \u001b[0;36m1\u001b[0m\u001b[0;34m:\u001b[0m\u001b[0;34m\u001b[0m\u001b[0;34m\u001b[0m\u001b[0m\n\u001b[1;32m    379\u001b[0m             raise RuntimeError(\"`fun` return value has \"\n",
      "\u001b[0;32m~/inSync Share/WaCM/wacm_tools/wacm/slab_model.py\u001b[0m in \u001b[0;36mloss_harmonics\u001b[0;34m(x, y, tt, periods, weight)\u001b[0m\n\u001b[1;32m    934\u001b[0m     \"\"\"\n\u001b[1;32m    935\u001b[0m \u001b[0;34m\u001b[0m\u001b[0m\n\u001b[0;32m--> 936\u001b[0;31m     \u001b[0muv\u001b[0m\u001b[0;34m=\u001b[0m\u001b[0mharmonics\u001b[0m\u001b[0;34m(\u001b[0m\u001b[0mx\u001b[0m\u001b[0;34m,\u001b[0m\u001b[0mtt\u001b[0m\u001b[0;34m,\u001b[0m\u001b[0mperiods\u001b[0m\u001b[0;34m)\u001b[0m\u001b[0;34m\u001b[0m\u001b[0;34m\u001b[0m\u001b[0m\n\u001b[0m\u001b[1;32m    937\u001b[0m \u001b[0;34m\u001b[0m\u001b[0m\n\u001b[1;32m    938\u001b[0m     \u001b[0mloss\u001b[0m\u001b[0;34m=\u001b[0m\u001b[0;34m(\u001b[0m\u001b[0muv\u001b[0m \u001b[0;34m-\u001b[0m \u001b[0my\u001b[0m\u001b[0;34m)\u001b[0m \u001b[0;31m#* weight\u001b[0m\u001b[0;34m\u001b[0m\u001b[0;34m\u001b[0m\u001b[0m\n",
      "\u001b[0;32m~/inSync Share/WaCM/wacm_tools/wacm/slab_model.py\u001b[0m in \u001b[0;36mharmonics\u001b[0;34m(x, tt, periods)\u001b[0m\n\u001b[1;32m    906\u001b[0m     \u001b[0;32mfor\u001b[0m \u001b[0mi\u001b[0m\u001b[0;34m,\u001b[0m \u001b[0mperiod\u001b[0m \u001b[0;32min\u001b[0m \u001b[0menumerate\u001b[0m\u001b[0;34m(\u001b[0m\u001b[0mperiods\u001b[0m\u001b[0;34m)\u001b[0m\u001b[0;34m:\u001b[0m\u001b[0;34m\u001b[0m\u001b[0;34m\u001b[0m\u001b[0m\n\u001b[1;32m    907\u001b[0m         \u001b[0momg\u001b[0m\u001b[0;34m=\u001b[0m\u001b[0;36m2\u001b[0m\u001b[0;34m*\u001b[0m\u001b[0mnumpy\u001b[0m\u001b[0;34m.\u001b[0m\u001b[0mpi\u001b[0m\u001b[0;34m/\u001b[0m\u001b[0mperiod\u001b[0m\u001b[0;34m\u001b[0m\u001b[0;34m\u001b[0m\u001b[0m\n\u001b[0;32m--> 908\u001b[0;31m         \u001b[0mu\u001b[0m\u001b[0;34m=\u001b[0m\u001b[0mu\u001b[0m\u001b[0;34m+\u001b[0m\u001b[0mxx\u001b[0m\u001b[0;34m[\u001b[0m\u001b[0mi\u001b[0m\u001b[0;34m,\u001b[0m\u001b[0;36m0\u001b[0m\u001b[0;34m]\u001b[0m\u001b[0;34m*\u001b[0m\u001b[0mnumpy\u001b[0m\u001b[0;34m.\u001b[0m\u001b[0mcos\u001b[0m\u001b[0;34m(\u001b[0m\u001b[0momg\u001b[0m\u001b[0;34m*\u001b[0m\u001b[0mtt\u001b[0m\u001b[0;34m+\u001b[0m\u001b[0mxx\u001b[0m\u001b[0;34m[\u001b[0m\u001b[0mi\u001b[0m\u001b[0;34m,\u001b[0m\u001b[0;36m1\u001b[0m\u001b[0;34m]\u001b[0m\u001b[0;34m)\u001b[0m\u001b[0;34m\u001b[0m\u001b[0;34m\u001b[0m\u001b[0m\n\u001b[0m\u001b[1;32m    909\u001b[0m         \u001b[0mv\u001b[0m\u001b[0;34m=\u001b[0m\u001b[0mv\u001b[0m\u001b[0;34m+\u001b[0m\u001b[0mxx\u001b[0m\u001b[0;34m[\u001b[0m\u001b[0mi\u001b[0m\u001b[0;34m,\u001b[0m\u001b[0;36m2\u001b[0m\u001b[0;34m]\u001b[0m\u001b[0;34m*\u001b[0m\u001b[0mnumpy\u001b[0m\u001b[0;34m.\u001b[0m\u001b[0mcos\u001b[0m\u001b[0;34m(\u001b[0m\u001b[0momg\u001b[0m\u001b[0;34m*\u001b[0m\u001b[0mtt\u001b[0m\u001b[0;34m+\u001b[0m\u001b[0mxx\u001b[0m\u001b[0;34m[\u001b[0m\u001b[0mi\u001b[0m\u001b[0;34m,\u001b[0m\u001b[0;36m3\u001b[0m\u001b[0;34m]\u001b[0m\u001b[0;34m)\u001b[0m\u001b[0;34m\u001b[0m\u001b[0;34m\u001b[0m\u001b[0m\n\u001b[1;32m    910\u001b[0m \u001b[0;34m\u001b[0m\u001b[0m\n",
      "\u001b[0;31mKeyboardInterrupt\u001b[0m: "
     ]
    },
    {
     "data": {
      "image/png": "[encoded data removed]",
      "text/plain": [
       "<Figure size 1080x576 with 4 Axes>"
      ]
     },
     "metadata": {
      "needs_background": "light"
     },
     "output_type": "display_data"
    }
   ],
   "source": [
    "import slab_model\n",
    "import pylab as plt\n",
    "import numpy as np\n",
    "import xarray as xr\n",
    "from popy import utils\n",
    "from scipy.io import loadmat\n",
    "import pandas as pd\n",
    "\n",
    "fig,ax=plt.subplots(2,2,figsize=(15,8),sharex=True,sharey=True)\n",
    "\n",
    "xrod=xr.open_dataset\n",
    "\n",
    "#use preprocess_mat2h5.ipynb to convert .mat files from Hong to HDF5\n",
    "ss=['PaPa2','KEO2','NTAS2','WHOTS2','Stratus2']\n",
    "\n",
    "fitting_method='Slab'\n",
    "\n",
    "d700=slab_model.create_wacm_from_mooring(ss[1],1/4,1/4,'700_1800',velocity_type='modt')\n",
    "print(d700.u_truth_total.time[0],d700.inertial_period,d700.wacm_sampling_period)\n",
    "\n",
    "t0=np.datetime64('2007-10-17')\n",
    "it0=d700.u_wacm_total.time>t0\n",
    "t0=d700.u_wacm_total.time.data[it0][0]\n",
    "print(t0)\n",
    "t1=t0+np.timedelta64(13,'D')\n",
    "\n",
    "sss=ss[1]\n",
    "\n",
    "t_out=pd.date_range(t0,t1,freq='1h')\n",
    "\n",
    "orbit='500_1000'\n",
    "axx=ax[0,0]\n",
    "d700=slab_model.create_wacm_from_mooring(sss,1/10,1/10,orbit,velocity_type='obs')\n",
    "\n",
    "up,vp,utid,vtid,param=d700.get_wacm_nio(t_out,fitting_method='Slab',#periods=[],\n",
    "                                        has_tides=False,uv_noise=0.,\n",
    "                                        wind_noise=0,use_hourly_wind=False,\n",
    "                                       include_nio=True)\n",
    "\n",
    "d700.u_truth_high_notide_nio.interp(time=up.time).plot(label='obs nio',ax=axx,color='k')\n",
    "(up).plot(label='slab',ax=axx)\n",
    "d700.u_truth_high.interp(time=up.time).plot(label='obs high',ax=axx,color='gray',linestyle='--')\n",
    "d700.u_wacm_high_notide.sel(time=slice(up.time[0],up.time[-1])).plot(marker='o',linestyle='',label='wacm obs',ax=axx)\n",
    "\n",
    "up,vp,utid,vtid,param=d700.get_wacm_nio(t_out,fitting_method='Harmonics',periods=[],\n",
    "                                        has_tides=False,uv_noise=0.,\n",
    "                                        wind_noise=0,use_hourly_wind=False,\n",
    "                                       include_nio=True)\n",
    "(up).plot(label='Harmonics',ax=axx)\n",
    "axx.legend(fontsize=12)\n",
    "##########################\n",
    "#500_1000 with noise\n",
    "orbit='500_1000'\n",
    "axx=ax[1,0]\n",
    "up,vp,utid,vtid,param=d700.get_wacm_nio(t_out,fitting_method='Slab',#periods=[],\n",
    "                                        has_tides=False,uv_noise=0.2,\n",
    "                                        wind_noise=0,use_hourly_wind=False,\n",
    "                                       include_nio=True)\n",
    "\n",
    "d700.u_truth_high_notide_nio.interp(time=up.time).plot(label='obs nio',ax=axx,color='k')\n",
    "(up).plot(label='slab',ax=axx)\n",
    "d700.u_truth_high.interp(time=up.time).plot(label='obs high',ax=axx,color='gray',linestyle='--')\n",
    "d700.u_wacm_high_notide.sel(time=slice(up.time[0],up.time[-1])).plot(marker='o',linestyle='',label='wacm obs',ax=axx)\n",
    "\n",
    "up,vp,utid,vtid,param=d700.get_wacm_nio(t_out,fitting_method='Harmonics',periods=[],\n",
    "                                        has_tides=False,uv_noise=0.2,\n",
    "                                        wind_noise=0,use_hourly_wind=False,\n",
    "                                       include_nio=True)\n",
    "(up).plot(label='Harmonics',ax=axx)\n",
    "#axx.legend(fontsize=12)\n",
    "\n",
    "\n",
    "#t1=t0+np.timedelta64(13,'D')\n",
    "\n",
    "##############\n",
    "orbit='700_1800'\n",
    "axx=ax[0,1]\n",
    "d700=slab_model.create_wacm_from_mooring(sss,1/10,1/10,orbit,velocity_type='obs')\n",
    "\n",
    "up,vp,utid,vtid,param=d700.get_wacm_nio(t_out,fitting_method='Slab',#periods=[],\n",
    "                                        has_tides=False,uv_noise=0.,\n",
    "                                        wind_noise=0,use_hourly_wind=False,\n",
    "                                       include_nio=True)\n",
    "\n",
    "d700.u_truth_high_notide_nio.interp(time=up.time).plot(label='obs nio',ax=axx,color='k')\n",
    "(up).plot(label='slab',ax=axx)\n",
    "\n",
    "d700.u_truth_high.interp(time=up.time).plot(label='obs high',ax=axx,color='gray',linestyle='--')\n",
    "d700.u_wacm_high_notide.sel(time=slice(up.time[0],up.time[-1])).plot(marker='o',linestyle='',label='wacm obs',ax=axx)\n",
    "\n",
    "up,vp,utid,vtid,param=d700.get_wacm_nio(t_out,fitting_method='Harmonics',periods=[],\n",
    "                                        has_tides=False,uv_noise=0.0,\n",
    "                                        wind_noise=0,use_hourly_wind=False,\n",
    "                                       include_nio=True)\n",
    "(up).plot(label='Harmonics',ax=axx)\n",
    "#axx.legend(fontsize=12)\n",
    "axx.set_ylim(-0.6,0.6)\n",
    "\n",
    "\n",
    "##########################\n",
    "#700_1800 with noise\n",
    "orbit='700_1800'\n",
    "axx=ax[1,1]\n",
    "up,vp,utid,vtid,param=d700.get_wacm_nio(t_out,fitting_method='Slab',#periods=[],\n",
    "                                        has_tides=False,uv_noise=0.2,\n",
    "                                        wind_noise=0,use_hourly_wind=False,\n",
    "                                       include_nio=True)\n",
    "\n",
    "d700.u_truth_high_notide_nio.interp(time=up.time).plot(label='obs nio',ax=axx,color='k')\n",
    "(up).plot(label='slab',ax=axx)\n",
    "d700.u_truth_high.interp(time=up.time).plot(label='obs high',ax=axx,color='gray',linestyle='--')\n",
    "d700.u_wacm_high_notide.sel(time=slice(up.time[0],up.time[-1])).plot(marker='o',linestyle='',label='wacm obs',ax=axx)\n",
    "\n",
    "up,vp,utid,vtid,param=d700.get_wacm_nio(t_out,fitting_method='Harmonics',periods=[],\n",
    "                                        has_tides=False,uv_noise=0.2,\n",
    "                                        wind_noise=0,use_hourly_wind=False,\n",
    "                                       include_nio=True)\n",
    "(up).plot(label='Harmonics',ax=axx)\n",
    "##########################\n",
    "#axx.legend(fontsize=12)\n",
    "axx.set_ylim(-0.6,0.6)\n",
    "ax[1,0].set_xlabel('Time',fontsize=20)\n",
    "ax[1,1].set_xlabel('Time',fontsize=20)\n",
    "ax[0,0].set_ylabel('m/s',fontsize=20)\n",
    "ax[1,0].set_ylabel('m/s',fontsize=20)\n",
    "ax[1,0].set_xlim(t0+np.timedelta64(3,'D'),t1-np.timedelta64(3,'D'))\n",
    "plt.tight_layout()\n",
    "\n",
    "\n",
    "ax[0,0].text(t_out[72],0.5,'(a)')\n",
    "ax[0,1].text(t_out[72],0.5,'(b)')\n",
    "ax[1,0].text(t_out[72],0.5,'(c)')\n",
    "ax[1,1].text(t_out[72],0.5,'(d)')\n",
    "\n",
    "plt.savefig('figures/KEO_example.pdf')\n",
    "plt.savefig('figures/KEO_example.png')\n",
    "\n"
   ]
  },
  {
   "cell_type": "code",
   "execution_count": null,
   "metadata": {},
   "outputs": [],
   "source": [
    "fig,ax=plt.subplots(figsize=(30,10))\n",
    "(up).plot(label='wacm')\n",
    "d700.u_truth_high_notide_nio.interp(time=up.time).plot(label='obs')\n",
    "\n",
    "d700.u_truth_high.interp(time=up.time).plot(label='obs high')\n",
    "#d700.u_truth_high_notide.interp(time=up.time).plot(label='obs high notide')\n",
    "\n",
    "\n",
    "#(up+utid.interp(time=up.time)).plot(linestyle='--',label='wacm+tide')\n",
    "d700.u_wacm_high.sel(time=slice(up.time[0],up.time[-1])).plot(marker='o',linestyle='',label='obs')\n",
    "\n",
    "plt.legend()"
   ]
  },
  {
   "cell_type": "code",
   "execution_count": null,
   "metadata": {},
   "outputs": [],
   "source": [
    "from scipy import signal\n",
    "import utide\n",
    "\n",
    "\n",
    "u=d700.u_truth_high.sel(time=slice(up.time[0],up.time[-1]))\n",
    "v=d700.v_truth_high.sel(time=slice(up.time[0],up.time[-1]))\n",
    "\n",
    "tt=(u.time.values-u.time.values[0])/np.timedelta64(1,'s')/86400 #convert to days\n",
    "\n",
    "cc=utide.solve(tt,u.values,v.values, \n",
    "                   lat=d700.lat0,verbose=False)\n",
    "\n",
    "tide=utide.reconstruct(tt,cc,verbose=False)\n",
    "ut=u*0\n",
    "vt=v*0\n",
    "ut.values[:]=tide.u*1\n",
    "vt.values[:]=tide.v*1\n",
    "\n",
    "fig,ax=plt.subplots(3,1,figsize=(30,30))\n",
    "u.plot(label='obs high',ax=ax[0])\n",
    "ut.plot(label='obs tide',ax=ax[0])\n",
    "ax[0].legend()\n",
    "\n",
    "(u-ut).plot(label='obs detide',ax=ax[1])\n",
    "up.plot(label='wacm nio',ax=ax[1])\n",
    "d700.u_truth_high_notide_nio.interp(time=up.time).plot(ax=ax[1],label='obs nio')\n",
    "\n",
    "ax[1].legend()"
   ]
  },
  {
   "cell_type": "code",
   "execution_count": null,
   "metadata": {},
   "outputs": [],
   "source": [
    "fig,ax=plt.subplots(figsize=(30,10))\n",
    "\n",
    "d700.u_truth_high_notide_nio.interp(time=d700.nio_reconstruction_u.time).plot(lw=1)\n",
    "d700.nio_reconstruction_u.plot(lw=1)"
   ]
  },
  {
   "cell_type": "code",
   "execution_count": null,
   "metadata": {},
   "outputs": [],
   "source": [
    "fig,ax=plt.subplots(figsize=(20,10))\n",
    "\n",
    "d.u_truth_high_notide_nio.resample(time='5D').std().plot(lw=2)\n",
    "d.nio_reconstruction_u.resample(time='5D').std().plot(lw=2)"
   ]
  },
  {
   "cell_type": "code",
   "execution_count": null,
   "metadata": {},
   "outputs": [],
   "source": []
  },
  {
   "cell_type": "code",
   "execution_count": null,
   "metadata": {},
   "outputs": [],
   "source": []
  }
 ],
 "metadata": {
  "kernelspec": {
   "display_name": "Python 3",
   "language": "python",
   "name": "python3"
  },
  "language_info": {
   "codemirror_mode": {
    "name": "ipython",
    "version": 3
   },
   "file_extension": ".py",
   "mimetype": "text/x-python",
   "name": "python",
   "nbconvert_exporter": "python",
   "pygments_lexer": "ipython3",
   "version": "3.7.6"
  }
 },
 "nbformat": 4,
 "nbformat_minor": 4
}
